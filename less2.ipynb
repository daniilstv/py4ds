{
  "cells": [
    {
      "metadata": {
        "collapsed": true
      },
      "cell_type": "markdown",
      "source": "Импортируйте библиотеку Numpy и дайте ей псевдоним np.\nСоздайте массив Numpy под названием a размером 5x2, то есть состоящий из 5 строк и 2 столбцов.\nПервый столбец должен содержать числа 1, 2, 3, 3, 1, а второй — числа 6, 8, 11, 10, 7.\nБудем считать, что каждый столбец — это признак, а строка — наблюдение.\nЗатем найдите среднее значение по каждому признаку, используя метод mean массива Numpy.\nРезультат запишите в массив mean_a, в нем должно быть 2 элемента.\n\nВычислите массив a_centered, отняв от значений массива а \nсредние значения соответствующих признаков, содержащиеся в массиве mean_a.\nВычисление должно производиться в одно действие.\nПолучившийся массив должен иметь размер 5x2.\n\nНайдите скалярное произведение столбцов массива a_centered.\nВ результате должна получиться величина a_centered_sp. \nЗатем поделите a_centered_sp на N-1, где N - число наблюдений.\n\nЧисло, которое мы получили в конце задания 3, является \nковариацией двух признаков, содержащихся в массиве а.\nВ задании 3 мы делили сумму произведений центрированных \nпризнаков на N-1, а не на N, поэтому полученная нами величина \nявляется несмещенной оценкой ковариации.\n\nПодробнее узнать о ковариации можно здесь:\nhttps://studopedia.ru/9_153900_viborochnaya-kovariatsiya-i-viborochnaya-dispersiya.html\n\nВ этом задании проверьте получившееся число, вычислив\nковариацию еще одним способом — с помощью функции np.cov.\n\nВ качестве аргумента m функция np.cov должна принимать транспонированный массив a.\nВ получившейся ковариационной матрице (массив Numpy размером 2x2) искомое значение ковариации будет равно элементу в строке с индексом 0 и столбце с индексом 1.\n\nИмпортируйте библиотеку Pandas и дайте ей псевдоним pd. Создайте датафрейм authors со столбцами author_id и author_name, в которых соответственно содержатся данные: [1, 2, 3] и ['Тургенев', 'Чехов', 'Островский'].\nЗатем создайте датафрейм book cо столбцами author_id, book_title и price,\nв которых соответственно содержатся данные: \n[1, 1, 1, 2, 2, 3, 3],\n['Отцы и дети', 'Рудин', 'Дворянское гнездо', 'Толстый и тонкий', 'Дама с собачкой', 'Гроза', 'Таланты и поклонники'],\n[450, 300, 350, 500, 450, 370, 290].\n\nПолучите датафрейм authors_price, соединив датафреймы authors и books по полю author_id.\n\nСоздайте датафрейм top5, в котором содержатся строки из authors_price с пятью самыми дорогими книгами.\n\nСоздайте датафрейм authors_stat на основе информации из authors_price.\nВ датафрейме authors_stat должны быть четыре столбца:\nauthor_name, min_price, max_price и mean_price,\nв которых должны содержаться соответственно имя автора,\nминимальная, максимальная и средняя цена на книги этого автора.\n\n9. Создайте новый столбец в датафрейме authors_price под названием cover, в нем будут располагаться данные о том, какая обложка у данной книги — твердая или мягкая. В этот столбец поместите данные из следующего списка: ['твердая', 'мягкая', 'мягкая', 'твердая', 'твердая', 'мягкая', 'мягкая'].\nПросмотрите документацию по функции pd.pivot_table \nс помощью вопросительного знака.\n\nДля каждого автора посчитайте суммарную стоимость книг в твердой и мягкой обложке. Используйте для этого функцию pd.pivot_table. \nПри этом столбцы должны называться «твердая» и «мягкая»,\nа индексами должны быть фамилии авторов. Пропущенные значения стоимостей заполните нулями, при необходимости загрузите библиотеку Numpy.\n\nНазовите полученный датасет book_info и сохраните его в формат pickle под названием \"book_info.pkl\".\nЗатем загрузите из этого файла датафрейм и назовите его book_info2.\nУдостоверьтесь, что датафреймы book_info и book_info2 идентичны."
    },
    {
      "metadata": {
        "trusted": true
      },
      "cell_type": "code",
      "source": "",
      "execution_count": null,
      "outputs": []
    },
    {
      "metadata": {},
      "cell_type": "markdown",
      "source": "1.\nИмпортируйте библиотеку Numpy и дайте ей псевдоним np.\nСоздайте массив Numpy под названием a размером 5x2, то есть состоящий из 5 строк и 2 столбцов.\nПервый столбец должен содержать числа 1, 2, 3, 3, 1, а второй — числа 6, 8, 11, 10, 7.\nБудем считать, что каждый столбец — это признак, а строка — наблюдение.\nЗатем найдите среднее значение по каждому признаку, используя метод mean массива Numpy.\nРезультат запишите в массив mean_a, в нем должно быть 2 элемента."
    },
    {
      "metadata": {
        "trusted": true
      },
      "cell_type": "code",
      "source": "import numpy as np\n\ngiven_data = np.array([[1, 2, 3, 3, 1],[6, 8, 11, 10, 7]])\n\na = np.transpose(given_data)\nmean_a = a.mean(axis = 0)",
      "execution_count": 184,
      "outputs": []
    },
    {
      "metadata": {
        "trusted": true
      },
      "cell_type": "code",
      "source": "print(a)\nprint(\"Размерность A: {}\".format(a.ndim))\nprint(\"Форма A: {}\\n\".format(a.shape))\n\nprint(mean_a)\nprint(\"Размерность A: {}\".format(mean_a.ndim))\nprint(\"Форма A: {}\\n\".format(mean_a.shape))",
      "execution_count": 185,
      "outputs": [
        {
          "output_type": "stream",
          "text": "[[ 1  6]\n [ 2  8]\n [ 3 11]\n [ 3 10]\n [ 1  7]]\nРазмерность A: 2\nФорма A: (5, 2)\n\n[2.  8.4]\nРазмерность A: 1\nФорма A: (2,)\n\n",
          "name": "stdout"
        }
      ]
    },
    {
      "metadata": {
        "trusted": true
      },
      "cell_type": "markdown",
      "source": "2.\nВычислите массив a_centered, отняв от значений массива а \nсредние значения соответствующих признаков, содержащиеся в массиве mean_a.\nВычисление должно производиться в одно действие.\nПолучившийся массив должен иметь размер 5x2."
    },
    {
      "metadata": {
        "trusted": true
      },
      "cell_type": "code",
      "source": "a_centered = a - mean_a\n",
      "execution_count": 186,
      "outputs": []
    },
    {
      "metadata": {
        "trusted": true
      },
      "cell_type": "code",
      "source": "print(a_centered)\nprint(\"Размерность A: {}\".format(a_centered.ndim))\nprint(\"Форма A: {}\\n\".format(a_centered.shape))",
      "execution_count": 187,
      "outputs": [
        {
          "output_type": "stream",
          "text": "[[-1.  -2.4]\n [ 0.  -0.4]\n [ 1.   2.6]\n [ 1.   1.6]\n [-1.  -1.4]]\nРазмерность A: 2\nФорма A: (5, 2)\n\n",
          "name": "stdout"
        }
      ]
    },
    {
      "metadata": {},
      "cell_type": "markdown",
      "source": "3. Найдите скалярное произведение столбцов массива a_centered. В результате должна получиться величина a_centered_sp."
    },
    {
      "metadata": {
        "trusted": true
      },
      "cell_type": "code",
      "source": "# Пробовал варианты с .dot но так и не сообразил. Например:\n# d = np.transpose(a_centered).dot(a_centered) \n# d = a_centered.dot(np.transpose(a_centered))\n# В итоге делал вручную..\n\n# Подбрал перебором подходящие слайсы. \nprint(\"Первый столбец:\\n\",a_centered[:,:1])\nprint(\"Второй столбец:\\n\",a_centered[:,1:])",
      "execution_count": 189,
      "outputs": [
        {
          "output_type": "stream",
          "text": "Первый столбец:\n [[-1.]\n [ 0.]\n [ 1.]\n [ 1.]\n [-1.]]\nВторой столбец:\n [[-2.4]\n [-0.4]\n [ 2.6]\n [ 1.6]\n [-1.4]]\n",
          "name": "stdout"
        }
      ]
    },
    {
      "metadata": {
        "trusted": true
      },
      "cell_type": "code",
      "source": "a_centered_sp_tmp = a_centered[:,1:] * a_centered[:,:1]\na_centered_sp = a_centered_sp_tmp.sum()\nprint(\"a_centered_sp = \", a_centered_sp)",
      "execution_count": 190,
      "outputs": [
        {
          "output_type": "stream",
          "text": "a_centered_sp =  8.0\n",
          "name": "stdout"
        }
      ]
    },
    {
      "metadata": {},
      "cell_type": "markdown",
      "source": "4. Затем поделите a_centered_sp на N-1, где N - число наблюдений."
    },
    {
      "metadata": {
        "trusted": true,
        "scrolled": false
      },
      "cell_type": "code",
      "source": "covariation = a_centered_sp / (given_data.shape[1] - 1)\nprint(covariation)",
      "execution_count": 191,
      "outputs": [
        {
          "output_type": "stream",
          "text": "2.0\n",
          "name": "stdout"
        }
      ]
    },
    {
      "metadata": {},
      "cell_type": "markdown",
      "source": "Число, которое мы получили в конце задания 3, является ковариацией двух признаков, содержащихся в массиве а. В задании 3 мы делили сумму произведений центрированных признаков на N-1, а не на N, поэтому полученная нами величина является несмещенной оценкой ковариации.\n\nПодробнее узнать о ковариации можно здесь: https://studopedia.ru/9_153900_viborochnaya-kovariatsiya-i-viborochnaya-dispersiya.html\n\n"
    },
    {
      "metadata": {},
      "cell_type": "markdown",
      "source": "В этом задании проверьте получившееся число, вычислив ковариацию еще одним способом — с помощью функции np.cov.\n\nВ качестве аргумента m функция np.cov должна принимать транспонированный массив a. В получившейся ковариационной матрице (массив Numpy размером 2x2) искомое значение ковариации будет равно элементу в строке с индексом 0 и столбце с индексом 1."
    },
    {
      "metadata": {
        "trusted": true
      },
      "cell_type": "code",
      "source": "np.cov(given_data)[0,1]",
      "execution_count": 149,
      "outputs": [
        {
          "output_type": "execute_result",
          "execution_count": 149,
          "data": {
            "text/plain": "2.0"
          },
          "metadata": {}
        }
      ]
    }
  ],
  "metadata": {
    "kernelspec": {
      "name": "python36",
      "display_name": "Python 3.6",
      "language": "python"
    },
    "language_info": {
      "mimetype": "text/x-python",
      "nbconvert_exporter": "python",
      "name": "python",
      "pygments_lexer": "ipython3",
      "version": "3.6.6",
      "file_extension": ".py",
      "codemirror_mode": {
        "version": 3,
        "name": "ipython"
      }
    }
  },
  "nbformat": 4,
  "nbformat_minor": 2
}