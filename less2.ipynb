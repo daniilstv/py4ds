{
  "cells": [
    {
      "metadata": {
        "trusted": true
      },
      "cell_type": "markdown",
      "source": "## Задание 1"
    },
    {
      "metadata": {},
      "cell_type": "markdown",
      "source": "\nИмпортируйте библиотеку Numpy и дайте ей псевдоним np.\nСоздайте массив Numpy под названием a размером 5x2, то есть состоящий из 5 строк и 2 столбцов.\nПервый столбец должен содержать числа 1, 2, 3, 3, 1, а второй — числа 6, 8, 11, 10, 7.\nБудем считать, что каждый столбец — это признак, а строка — наблюдение.\nЗатем найдите среднее значение по каждому признаку, используя метод mean массива Numpy.\nРезультат запишите в массив mean_a, в нем должно быть 2 элемента."
    },
    {
      "metadata": {
        "trusted": true
      },
      "cell_type": "code",
      "source": "import numpy as np\n\ngiven_data = np.array([[1, 2, 3, 3, 1],[6, 8, 11, 10, 7]])\n\na = np.transpose(given_data)\nmean_a = a.mean(axis = 0)",
      "execution_count": 1,
      "outputs": []
    },
    {
      "metadata": {
        "trusted": true
      },
      "cell_type": "code",
      "source": "print(a)\nprint(\"Размерность A: {}\".format(a.ndim))\nprint(\"Форма A: {}\\n\".format(a.shape))\n\nprint(mean_a)\nprint(\"Размерность A: {}\".format(mean_a.ndim))\nprint(\"Форма A: {}\\n\".format(mean_a.shape))",
      "execution_count": 2,
      "outputs": [
        {
          "output_type": "stream",
          "text": "[[ 1  6]\n [ 2  8]\n [ 3 11]\n [ 3 10]\n [ 1  7]]\nРазмерность A: 2\nФорма A: (5, 2)\n\n[2.  8.4]\nРазмерность A: 1\nФорма A: (2,)\n\n",
          "name": "stdout"
        }
      ]
    },
    {
      "metadata": {
        "trusted": true
      },
      "cell_type": "markdown",
      "source": "\nВычислите массив a_centered, отняв от значений массива а \nсредние значения соответствующих признаков, содержащиеся в массиве mean_a.\nВычисление должно производиться в одно действие.\nПолучившийся массив должен иметь размер 5x2."
    },
    {
      "metadata": {
        "trusted": true
      },
      "cell_type": "code",
      "source": "a_centered = a - mean_a\n",
      "execution_count": 3,
      "outputs": []
    },
    {
      "metadata": {
        "trusted": true
      },
      "cell_type": "code",
      "source": "print(a_centered)\nprint(\"Размерность A: {}\".format(a_centered.ndim))\nprint(\"Форма A: {}\\n\".format(a_centered.shape))",
      "execution_count": 4,
      "outputs": [
        {
          "output_type": "stream",
          "text": "[[-1.  -2.4]\n [ 0.  -0.4]\n [ 1.   2.6]\n [ 1.   1.6]\n [-1.  -1.4]]\nРазмерность A: 2\nФорма A: (5, 2)\n\n",
          "name": "stdout"
        }
      ]
    },
    {
      "metadata": {},
      "cell_type": "markdown",
      "source": "Найдите скалярное произведение столбцов массива a_centered. В результате должна получиться величина a_centered_sp."
    },
    {
      "metadata": {
        "trusted": true
      },
      "cell_type": "code",
      "source": "# Пробовал варианты с .dot но так и не сообразил. Например:\n# d = np.transpose(a_centered).dot(a_centered) \n# d = a_centered.dot(np.transpose(a_centered))\n# В итоге делал вручную..\n\n# Подбрал перебором подходящие слайсы. \n\"\"\"\nprint(\"Первый столбец:\\n\",a_centered[:,:1])\nprint(\"Второй столбец:\\n\",a_centered[:,1:])\na_centered_sp_tmp = a_centered[:,1:] * a_centered[:,:1]\na_centered_sp = a_centered_sp_tmp.sum()\n\"\"\"\n\n# fixed: Вариант c np.dot\na_centered_sp = np.dot(a_centered[:,0],a_centered[:,1]) \nprint(\"a_centered_sp = \", a_centered_sp)",
      "execution_count": 5,
      "outputs": [
        {
          "output_type": "stream",
          "text": "a_centered_sp =  8.0\n",
          "name": "stdout"
        }
      ]
    },
    {
      "metadata": {},
      "cell_type": "markdown",
      "source": "Затем поделите a_centered_sp на N-1, где N - число наблюдений."
    },
    {
      "metadata": {
        "trusted": true,
        "scrolled": false
      },
      "cell_type": "code",
      "source": "covariation = a_centered_sp / (given_data.shape[1] - 1)\nprint(covariation)",
      "execution_count": 6,
      "outputs": [
        {
          "output_type": "stream",
          "text": "2.0\n",
          "name": "stdout"
        }
      ]
    },
    {
      "metadata": {},
      "cell_type": "markdown",
      "source": "Число, которое мы получили в конце задания 3, является ковариацией двух признаков, содержащихся в массиве а. В задании 3 мы делили сумму произведений центрированных признаков на N-1, а не на N, поэтому полученная нами величина является несмещенной оценкой ковариации.\n\nПодробнее узнать о ковариации можно здесь: https://studopedia.ru/9_153900_viborochnaya-kovariatsiya-i-viborochnaya-dispersiya.html\n\n"
    },
    {
      "metadata": {},
      "cell_type": "markdown",
      "source": "В этом задании проверьте получившееся число, вычислив ковариацию еще одним способом — с помощью функции np.cov.\n\nВ качестве аргумента m функция np.cov должна принимать транспонированный массив a. В получившейся ковариационной матрице (массив Numpy размером 2x2) искомое значение ковариации будет равно элементу в строке с индексом 0 и столбце с индексом 1."
    },
    {
      "metadata": {
        "trusted": true,
        "scrolled": true
      },
      "cell_type": "code",
      "source": "np.cov(given_data)[0,1]",
      "execution_count": 7,
      "outputs": [
        {
          "output_type": "execute_result",
          "execution_count": 7,
          "data": {
            "text/plain": "2.0"
          },
          "metadata": {}
        }
      ]
    },
    {
      "metadata": {},
      "cell_type": "markdown",
      "source": "## Задание 2"
    },
    {
      "metadata": {},
      "cell_type": "markdown",
      "source": "Импортируйте библиотеку Pandas и дайте ей псевдоним pd. \nСоздайте датафрейм authors со столбцами author_id и author_name, в которых соответственно содержатся данные: [1, 2, 3] и ['Тургенев', 'Чехов', 'Островский'].\nЗатем создайте датафрейм book cо столбцами author_id, book_title и price,\nв которых соответственно содержатся данные: \n[1, 1, 1, 2, 2, 3, 3],\n['Отцы и дети', 'Рудин', 'Дворянское гнездо', 'Толстый и тонкий', 'Дама с собачкой', 'Гроза', 'Таланты и поклонники'],\n[450, 300, 350, 500, 450, 370, 290]."
    },
    {
      "metadata": {
        "trusted": true
      },
      "cell_type": "code",
      "source": "import pandas as pd\n\nauthors = {\n    \"author_id\": [1, 2, 3],\n    \"author_name\": ['Тургенев', 'Чехов', 'Островский']\n}\n\nauthors = pd.DataFrame(authors)\n\nbook = pd.DataFrame({ \"author_id\": [1, 1, 1, 2, 2, 3, 3],\n        \"book_title\": ['Отцы и дети', 'Рудин', 'Дворянское гнездо', 'Толстый и тонкий', 'Дама с собачкой', 'Гроза', 'Таланты и поклонники'],\n        \"price\": [450, 300, 350, 500, 450, 370, 290]\n})\n\n",
      "execution_count": 8,
      "outputs": []
    },
    {
      "metadata": {
        "trusted": true
      },
      "cell_type": "code",
      "source": "book",
      "execution_count": 9,
      "outputs": [
        {
          "output_type": "execute_result",
          "execution_count": 9,
          "data": {
            "text/html": "<div>\n<style scoped>\n    .dataframe tbody tr th:only-of-type {\n        vertical-align: middle;\n    }\n\n    .dataframe tbody tr th {\n        vertical-align: top;\n    }\n\n    .dataframe thead th {\n        text-align: right;\n    }\n</style>\n<table border=\"1\" class=\"dataframe\">\n  <thead>\n    <tr style=\"text-align: right;\">\n      <th></th>\n      <th>author_id</th>\n      <th>book_title</th>\n      <th>price</th>\n    </tr>\n  </thead>\n  <tbody>\n    <tr>\n      <th>0</th>\n      <td>1</td>\n      <td>Отцы и дети</td>\n      <td>450</td>\n    </tr>\n    <tr>\n      <th>1</th>\n      <td>1</td>\n      <td>Рудин</td>\n      <td>300</td>\n    </tr>\n    <tr>\n      <th>2</th>\n      <td>1</td>\n      <td>Дворянское гнездо</td>\n      <td>350</td>\n    </tr>\n    <tr>\n      <th>3</th>\n      <td>2</td>\n      <td>Толстый и тонкий</td>\n      <td>500</td>\n    </tr>\n    <tr>\n      <th>4</th>\n      <td>2</td>\n      <td>Дама с собачкой</td>\n      <td>450</td>\n    </tr>\n    <tr>\n      <th>5</th>\n      <td>3</td>\n      <td>Гроза</td>\n      <td>370</td>\n    </tr>\n    <tr>\n      <th>6</th>\n      <td>3</td>\n      <td>Таланты и поклонники</td>\n      <td>290</td>\n    </tr>\n  </tbody>\n</table>\n</div>",
            "text/plain": "   author_id            book_title  price\n0          1           Отцы и дети    450\n1          1                 Рудин    300\n2          1     Дворянское гнездо    350\n3          2      Толстый и тонкий    500\n4          2       Дама с собачкой    450\n5          3                 Гроза    370\n6          3  Таланты и поклонники    290"
          },
          "metadata": {}
        }
      ]
    },
    {
      "metadata": {
        "trusted": true
      },
      "cell_type": "code",
      "source": "book.describe()",
      "execution_count": 10,
      "outputs": [
        {
          "output_type": "execute_result",
          "execution_count": 10,
          "data": {
            "text/html": "<div>\n<style scoped>\n    .dataframe tbody tr th:only-of-type {\n        vertical-align: middle;\n    }\n\n    .dataframe tbody tr th {\n        vertical-align: top;\n    }\n\n    .dataframe thead th {\n        text-align: right;\n    }\n</style>\n<table border=\"1\" class=\"dataframe\">\n  <thead>\n    <tr style=\"text-align: right;\">\n      <th></th>\n      <th>author_id</th>\n      <th>price</th>\n    </tr>\n  </thead>\n  <tbody>\n    <tr>\n      <th>count</th>\n      <td>7.000000</td>\n      <td>7.000000</td>\n    </tr>\n    <tr>\n      <th>mean</th>\n      <td>1.857143</td>\n      <td>387.142857</td>\n    </tr>\n    <tr>\n      <th>std</th>\n      <td>0.899735</td>\n      <td>80.976187</td>\n    </tr>\n    <tr>\n      <th>min</th>\n      <td>1.000000</td>\n      <td>290.000000</td>\n    </tr>\n    <tr>\n      <th>25%</th>\n      <td>1.000000</td>\n      <td>325.000000</td>\n    </tr>\n    <tr>\n      <th>50%</th>\n      <td>2.000000</td>\n      <td>370.000000</td>\n    </tr>\n    <tr>\n      <th>75%</th>\n      <td>2.500000</td>\n      <td>450.000000</td>\n    </tr>\n    <tr>\n      <th>max</th>\n      <td>3.000000</td>\n      <td>500.000000</td>\n    </tr>\n  </tbody>\n</table>\n</div>",
            "text/plain": "       author_id       price\ncount   7.000000    7.000000\nmean    1.857143  387.142857\nstd     0.899735   80.976187\nmin     1.000000  290.000000\n25%     1.000000  325.000000\n50%     2.000000  370.000000\n75%     2.500000  450.000000\nmax     3.000000  500.000000"
          },
          "metadata": {}
        }
      ]
    },
    {
      "metadata": {},
      "cell_type": "markdown",
      "source": "Получите датафрейм authors_price, соединив датафреймы authors и books по полю author_id."
    },
    {
      "metadata": {
        "trusted": true
      },
      "cell_type": "code",
      "source": "authors_price = pd.merge(authors, book, on = \"author_id\" , how='inner')",
      "execution_count": 11,
      "outputs": []
    },
    {
      "metadata": {
        "trusted": true
      },
      "cell_type": "code",
      "source": "authors_price",
      "execution_count": 12,
      "outputs": [
        {
          "output_type": "execute_result",
          "execution_count": 12,
          "data": {
            "text/html": "<div>\n<style scoped>\n    .dataframe tbody tr th:only-of-type {\n        vertical-align: middle;\n    }\n\n    .dataframe tbody tr th {\n        vertical-align: top;\n    }\n\n    .dataframe thead th {\n        text-align: right;\n    }\n</style>\n<table border=\"1\" class=\"dataframe\">\n  <thead>\n    <tr style=\"text-align: right;\">\n      <th></th>\n      <th>author_id</th>\n      <th>author_name</th>\n      <th>book_title</th>\n      <th>price</th>\n    </tr>\n  </thead>\n  <tbody>\n    <tr>\n      <th>0</th>\n      <td>1</td>\n      <td>Тургенев</td>\n      <td>Отцы и дети</td>\n      <td>450</td>\n    </tr>\n    <tr>\n      <th>1</th>\n      <td>1</td>\n      <td>Тургенев</td>\n      <td>Рудин</td>\n      <td>300</td>\n    </tr>\n    <tr>\n      <th>2</th>\n      <td>1</td>\n      <td>Тургенев</td>\n      <td>Дворянское гнездо</td>\n      <td>350</td>\n    </tr>\n    <tr>\n      <th>3</th>\n      <td>2</td>\n      <td>Чехов</td>\n      <td>Толстый и тонкий</td>\n      <td>500</td>\n    </tr>\n    <tr>\n      <th>4</th>\n      <td>2</td>\n      <td>Чехов</td>\n      <td>Дама с собачкой</td>\n      <td>450</td>\n    </tr>\n    <tr>\n      <th>5</th>\n      <td>3</td>\n      <td>Островский</td>\n      <td>Гроза</td>\n      <td>370</td>\n    </tr>\n    <tr>\n      <th>6</th>\n      <td>3</td>\n      <td>Островский</td>\n      <td>Таланты и поклонники</td>\n      <td>290</td>\n    </tr>\n  </tbody>\n</table>\n</div>",
            "text/plain": "   author_id author_name            book_title  price\n0          1    Тургенев           Отцы и дети    450\n1          1    Тургенев                 Рудин    300\n2          1    Тургенев     Дворянское гнездо    350\n3          2       Чехов      Толстый и тонкий    500\n4          2       Чехов       Дама с собачкой    450\n5          3  Островский                 Гроза    370\n6          3  Островский  Таланты и поклонники    290"
          },
          "metadata": {}
        }
      ]
    },
    {
      "metadata": {},
      "cell_type": "markdown",
      "source": "Создайте датафрейм top5, в котором содержатся строки из authors_price с пятью самыми дорогими книгами."
    },
    {
      "metadata": {
        "trusted": true
      },
      "cell_type": "code",
      "source": "top5 = authors_price.nlargest(5, \"price\")",
      "execution_count": 13,
      "outputs": []
    },
    {
      "metadata": {
        "trusted": true
      },
      "cell_type": "code",
      "source": "top5",
      "execution_count": 14,
      "outputs": [
        {
          "output_type": "execute_result",
          "execution_count": 14,
          "data": {
            "text/html": "<div>\n<style scoped>\n    .dataframe tbody tr th:only-of-type {\n        vertical-align: middle;\n    }\n\n    .dataframe tbody tr th {\n        vertical-align: top;\n    }\n\n    .dataframe thead th {\n        text-align: right;\n    }\n</style>\n<table border=\"1\" class=\"dataframe\">\n  <thead>\n    <tr style=\"text-align: right;\">\n      <th></th>\n      <th>author_id</th>\n      <th>author_name</th>\n      <th>book_title</th>\n      <th>price</th>\n    </tr>\n  </thead>\n  <tbody>\n    <tr>\n      <th>3</th>\n      <td>2</td>\n      <td>Чехов</td>\n      <td>Толстый и тонкий</td>\n      <td>500</td>\n    </tr>\n    <tr>\n      <th>0</th>\n      <td>1</td>\n      <td>Тургенев</td>\n      <td>Отцы и дети</td>\n      <td>450</td>\n    </tr>\n    <tr>\n      <th>4</th>\n      <td>2</td>\n      <td>Чехов</td>\n      <td>Дама с собачкой</td>\n      <td>450</td>\n    </tr>\n    <tr>\n      <th>5</th>\n      <td>3</td>\n      <td>Островский</td>\n      <td>Гроза</td>\n      <td>370</td>\n    </tr>\n    <tr>\n      <th>2</th>\n      <td>1</td>\n      <td>Тургенев</td>\n      <td>Дворянское гнездо</td>\n      <td>350</td>\n    </tr>\n  </tbody>\n</table>\n</div>",
            "text/plain": "   author_id author_name         book_title  price\n3          2       Чехов   Толстый и тонкий    500\n0          1    Тургенев        Отцы и дети    450\n4          2       Чехов    Дама с собачкой    450\n5          3  Островский              Гроза    370\n2          1    Тургенев  Дворянское гнездо    350"
          },
          "metadata": {}
        }
      ]
    },
    {
      "metadata": {},
      "cell_type": "markdown",
      "source": "Создайте датафрейм authors_stat на основе информации из authors_price.\nВ датафрейме authors_stat должны быть четыре столбца:\nauthor_name, min_price, max_price и mean_price,\nв которых должны содержаться соответственно имя автора,\nминимальная, максимальная и средняя цена на книги этого автора."
    },
    {
      "metadata": {
        "trusted": true
      },
      "cell_type": "code",
      "source": "grouped_authors = authors_price.groupby(\"author_name\")\n\n''' \nprint(grouped_authors.min())\nprint(grouped_authors.max())\nprint(grouped_authors.mean())\n'''\nauthors_stat = grouped_authors.agg({\"price\":[ \"max\",  \"min\",\"mean\"]})",
      "execution_count": 15,
      "outputs": []
    },
    {
      "metadata": {
        "trusted": true
      },
      "cell_type": "code",
      "source": "authors_stat",
      "execution_count": 16,
      "outputs": [
        {
          "output_type": "execute_result",
          "execution_count": 16,
          "data": {
            "text/html": "<div>\n<style scoped>\n    .dataframe tbody tr th:only-of-type {\n        vertical-align: middle;\n    }\n\n    .dataframe tbody tr th {\n        vertical-align: top;\n    }\n\n    .dataframe thead tr th {\n        text-align: left;\n    }\n\n    .dataframe thead tr:last-of-type th {\n        text-align: right;\n    }\n</style>\n<table border=\"1\" class=\"dataframe\">\n  <thead>\n    <tr>\n      <th></th>\n      <th colspan=\"3\" halign=\"left\">price</th>\n    </tr>\n    <tr>\n      <th></th>\n      <th>max</th>\n      <th>min</th>\n      <th>mean</th>\n    </tr>\n    <tr>\n      <th>author_name</th>\n      <th></th>\n      <th></th>\n      <th></th>\n    </tr>\n  </thead>\n  <tbody>\n    <tr>\n      <th>Островский</th>\n      <td>370</td>\n      <td>290</td>\n      <td>330.000000</td>\n    </tr>\n    <tr>\n      <th>Тургенев</th>\n      <td>450</td>\n      <td>300</td>\n      <td>366.666667</td>\n    </tr>\n    <tr>\n      <th>Чехов</th>\n      <td>500</td>\n      <td>450</td>\n      <td>475.000000</td>\n    </tr>\n  </tbody>\n</table>\n</div>",
            "text/plain": "            price                 \n              max  min        mean\nauthor_name                       \nОстровский    370  290  330.000000\nТургенев      450  300  366.666667\nЧехов         500  450  475.000000"
          },
          "metadata": {}
        }
      ]
    },
    {
      "metadata": {},
      "cell_type": "markdown",
      "source": "Создайте новый столбец в датафрейме authors_price под названием cover, в нем будут располагаться данные о том, какая обложка у данной книги — твердая или мягкая. В этот столбец поместите данные из следующего списка: ['твердая', 'мягкая', 'мягкая', 'твердая', 'твердая', 'мягкая', 'мягкая'].\nПросмотрите документацию по функции pd.pivot_table \nс помощью вопросительного знака."
    },
    {
      "metadata": {
        "trusted": true
      },
      "cell_type": "code",
      "source": "cover_list = ['твердая', 'мягкая', 'мягкая', 'твердая', 'твердая', 'мягкая', 'мягкая']\n\n# Решение через pd.Series\ncover_list = pd.Series(cover_list)\nauthors_price[\"cover\"] = cover_list.values\n",
      "execution_count": 17,
      "outputs": []
    },
    {
      "metadata": {},
      "cell_type": "markdown",
      "source": "Для каждого автора посчитайте суммарную стоимость книг в твердой и мягкой обложке. Используйте для этого функцию pd.pivot_table. \nПри этом столбцы должны называться «твердая» и «мягкая»,\nа индексами должны быть фамилии авторов. Пропущенные значения стоимостей заполните нулями, при необходимости загрузите библиотеку Numpy. Назовите полученный датасет book_info ..."
    },
    {
      "metadata": {
        "trusted": true,
        "scrolled": true
      },
      "cell_type": "code",
      "source": "#import numpy as np\n\n\nauthors_price_pivoted = authors_price.pivot_table(index='author_name', columns='cover', aggfunc='sum')\nbook_info = authors_price_pivoted.fillna(0)\n\n#authors_price.pivot_table(index='author_name', columns='cover', aggfunc='sum').fillna(0)",
      "execution_count": 18,
      "outputs": []
    },
    {
      "metadata": {
        "trusted": true
      },
      "cell_type": "code",
      "source": "book_info",
      "execution_count": 19,
      "outputs": [
        {
          "output_type": "execute_result",
          "execution_count": 19,
          "data": {
            "text/html": "<div>\n<style scoped>\n    .dataframe tbody tr th:only-of-type {\n        vertical-align: middle;\n    }\n\n    .dataframe tbody tr th {\n        vertical-align: top;\n    }\n\n    .dataframe thead tr th {\n        text-align: left;\n    }\n\n    .dataframe thead tr:last-of-type th {\n        text-align: right;\n    }\n</style>\n<table border=\"1\" class=\"dataframe\">\n  <thead>\n    <tr>\n      <th></th>\n      <th colspan=\"2\" halign=\"left\">author_id</th>\n      <th colspan=\"2\" halign=\"left\">price</th>\n    </tr>\n    <tr>\n      <th>cover</th>\n      <th>мягкая</th>\n      <th>твердая</th>\n      <th>мягкая</th>\n      <th>твердая</th>\n    </tr>\n    <tr>\n      <th>author_name</th>\n      <th></th>\n      <th></th>\n      <th></th>\n      <th></th>\n    </tr>\n  </thead>\n  <tbody>\n    <tr>\n      <th>Островский</th>\n      <td>6.0</td>\n      <td>0.0</td>\n      <td>660.0</td>\n      <td>0.0</td>\n    </tr>\n    <tr>\n      <th>Тургенев</th>\n      <td>2.0</td>\n      <td>1.0</td>\n      <td>650.0</td>\n      <td>450.0</td>\n    </tr>\n    <tr>\n      <th>Чехов</th>\n      <td>0.0</td>\n      <td>4.0</td>\n      <td>0.0</td>\n      <td>950.0</td>\n    </tr>\n  </tbody>\n</table>\n</div>",
            "text/plain": "            author_id          price        \ncover          мягкая твердая мягкая твердая\nauthor_name                                 \nОстровский        6.0     0.0  660.0     0.0\nТургенев          2.0     1.0  650.0   450.0\nЧехов             0.0     4.0    0.0   950.0"
          },
          "metadata": {}
        }
      ]
    },
    {
      "metadata": {},
      "cell_type": "markdown",
      "source": "Назовите полученный датасет book_info и сохраните его в формат pickle под названием \"book_info.pkl\".\nЗатем загрузите из этого файла датафрейм и назовите его book_info2.\nУдостоверьтесь, что датафреймы book_info и book_info2 идентичны."
    },
    {
      "metadata": {
        "trusted": true
      },
      "cell_type": "code",
      "source": "book_info.to_pickle(\"book_info.pkl\")\nbook_info2 = pd.read_pickle(\"book_info.pkl\")\n",
      "execution_count": 20,
      "outputs": []
    },
    {
      "metadata": {
        "trusted": true
      },
      "cell_type": "code",
      "source": "book_info2",
      "execution_count": 21,
      "outputs": [
        {
          "output_type": "execute_result",
          "execution_count": 21,
          "data": {
            "text/html": "<div>\n<style scoped>\n    .dataframe tbody tr th:only-of-type {\n        vertical-align: middle;\n    }\n\n    .dataframe tbody tr th {\n        vertical-align: top;\n    }\n\n    .dataframe thead tr th {\n        text-align: left;\n    }\n\n    .dataframe thead tr:last-of-type th {\n        text-align: right;\n    }\n</style>\n<table border=\"1\" class=\"dataframe\">\n  <thead>\n    <tr>\n      <th></th>\n      <th colspan=\"2\" halign=\"left\">author_id</th>\n      <th colspan=\"2\" halign=\"left\">price</th>\n    </tr>\n    <tr>\n      <th>cover</th>\n      <th>мягкая</th>\n      <th>твердая</th>\n      <th>мягкая</th>\n      <th>твердая</th>\n    </tr>\n    <tr>\n      <th>author_name</th>\n      <th></th>\n      <th></th>\n      <th></th>\n      <th></th>\n    </tr>\n  </thead>\n  <tbody>\n    <tr>\n      <th>Островский</th>\n      <td>6.0</td>\n      <td>0.0</td>\n      <td>660.0</td>\n      <td>0.0</td>\n    </tr>\n    <tr>\n      <th>Тургенев</th>\n      <td>2.0</td>\n      <td>1.0</td>\n      <td>650.0</td>\n      <td>450.0</td>\n    </tr>\n    <tr>\n      <th>Чехов</th>\n      <td>0.0</td>\n      <td>4.0</td>\n      <td>0.0</td>\n      <td>950.0</td>\n    </tr>\n  </tbody>\n</table>\n</div>",
            "text/plain": "            author_id          price        \ncover          мягкая твердая мягкая твердая\nauthor_name                                 \nОстровский        6.0     0.0  660.0     0.0\nТургенев          2.0     1.0  650.0   450.0\nЧехов             0.0     4.0    0.0   950.0"
          },
          "metadata": {}
        }
      ]
    },
    {
      "metadata": {
        "trusted": true
      },
      "cell_type": "code",
      "source": "if book_info.equals(book_info2) is True:\n    print(\"Датафреймы идентичны\")\nelse:\n    print(\"Датафреймы не совпали\")",
      "execution_count": 22,
      "outputs": [
        {
          "output_type": "stream",
          "text": "Датафреймы идентичны\n",
          "name": "stdout"
        }
      ]
    },
    {
      "metadata": {
        "trusted": true
      },
      "cell_type": "code",
      "source": "",
      "execution_count": null,
      "outputs": []
    }
  ],
  "metadata": {
    "kernelspec": {
      "name": "python36",
      "display_name": "Python 3.6",
      "language": "python"
    },
    "language_info": {
      "mimetype": "text/x-python",
      "nbconvert_exporter": "python",
      "name": "python",
      "pygments_lexer": "ipython3",
      "version": "3.6.6",
      "file_extension": ".py",
      "codemirror_mode": {
        "version": 3,
        "name": "ipython"
      }
    }
  },
  "nbformat": 4,
  "nbformat_minor": 2
}