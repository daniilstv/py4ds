{
 "cells": [
  {
   "cell_type": "code",
   "execution_count": 1,
   "metadata": {},
   "outputs": [],
   "source": [
    "import numpy as np\n",
    "import math\n",
    "from matplotlib import pyplot as plt\n",
    "from sympy import *  # http://inp.nsk.su/~grozin/python/python7.html \n",
    "init_printing()\n",
    "%matplotlib inline"
   ]
  },
  {
   "cell_type": "markdown",
   "metadata": {},
   "source": [
    "#### Тема “Введение в линейную алгебру”\n",
    "5.1.\n",
    "Вектор – это частный случай матрицы 1хN и Nх1. Повторите материал для векторов, уделяя особое внимание умножению A∙B.\n",
    "Вычислите, по возможности не используя программирование: (5Е)**(–1), где Е – единичная матрица размера 5х5.\n"
   ]
  },
  {
   "cell_type": "code",
   "execution_count": 49,
   "metadata": {},
   "outputs": [],
   "source": [
    "# 5.1\n",
    "\n",
    "E = np.identity(5)"
   ]
  },
  {
   "cell_type": "code",
   "execution_count": 28,
   "metadata": {},
   "outputs": [
    {
     "data": {
      "text/latex": [
       "$$\\left[\\begin{matrix}1.0 & 0.0 & 0.0 & 0.0 & 0.0\\\\0.0 & 1.0 & 0.0 & 0.0 & 0.0\\\\0.0 & 0.0 & 1.0 & 0.0 & 0.0\\\\0.0 & 0.0 & 0.0 & 1.0 & 0.0\\\\0.0 & 0.0 & 0.0 & 0.0 & 1.0\\end{matrix}\\right]$$"
      ],
      "text/plain": [
       "⎡1.0  0.0  0.0  0.0  0.0⎤\n",
       "⎢                       ⎥\n",
       "⎢0.0  1.0  0.0  0.0  0.0⎥\n",
       "⎢                       ⎥\n",
       "⎢0.0  0.0  1.0  0.0  0.0⎥\n",
       "⎢                       ⎥\n",
       "⎢0.0  0.0  0.0  1.0  0.0⎥\n",
       "⎢                       ⎥\n",
       "⎣0.0  0.0  0.0  0.0  1.0⎦"
      ]
     },
     "execution_count": 28,
     "metadata": {},
     "output_type": "execute_result"
    }
   ],
   "source": [
    "Matrix(E)"
   ]
  },
  {
   "cell_type": "code",
   "execution_count": null,
   "metadata": {},
   "outputs": [],
   "source": [
    "# решение на бумажке\n",
    "(5*E)**(-1) = ([[5, 0., 0., 0., 0.],   \n",
    "               [0., 5, 0., 0., 0.],\n",
    "               [0., 0., 5, 0., 0.],\n",
    "               [0., 0., 0., 5, 0.],\n",
    "               [0., 0., 0., 0., 5]]) ** (-1) = \n",
    "\n",
    "=             ([[1/5, 0., 0., 0., 0.],   \n",
    "               [0., 1/5, 0., 0., 0.],\n",
    "               [0., 0., 1/5, 0., 0.],\n",
    "               [0., 0., 0., 1/5, 0.],\n",
    "               [0., 0., 0., 0., 1/5]]) "
   ]
  },
  {
   "cell_type": "code",
   "execution_count": 46,
   "metadata": {},
   "outputs": [
    {
     "data": {
      "text/latex": [
       "$$\\left[\\begin{matrix}0.2 & 0.0 & 0.0 & 0.0 & 0.0\\\\0.0 & 0.2 & 0.0 & 0.0 & 0.0\\\\0.0 & 0.0 & 0.2 & 0.0 & 0.0\\\\0.0 & 0.0 & 0.0 & 0.2 & 0.0\\\\0.0 & 0.0 & 0.0 & 0.0 & 0.2\\end{matrix}\\right]$$"
      ],
      "text/plain": [
       "⎡0.2  0.0  0.0  0.0  0.0⎤\n",
       "⎢                       ⎥\n",
       "⎢0.0  0.2  0.0  0.0  0.0⎥\n",
       "⎢                       ⎥\n",
       "⎢0.0  0.0  0.2  0.0  0.0⎥\n",
       "⎢                       ⎥\n",
       "⎢0.0  0.0  0.0  0.2  0.0⎥\n",
       "⎢                       ⎥\n",
       "⎣0.0  0.0  0.0  0.0  0.2⎦"
      ]
     },
     "execution_count": 46,
     "metadata": {},
     "output_type": "execute_result"
    }
   ],
   "source": [
    "E_answer =  np.array([[1/5, 0., 0., 0., 0.],   \n",
    "               [0., 1/5, 0., 0., 0.],\n",
    "               [0., 0., 1/5, 0., 0.],\n",
    "               [0., 0., 0., 1/5, 0.],\n",
    "               [0., 0., 0., 0., 1/5]]) \n",
    "Matrix(E_answer)"
   ]
  },
  {
   "cell_type": "code",
   "execution_count": 48,
   "metadata": {},
   "outputs": [
    {
     "name": "stderr",
     "output_type": "stream",
     "text": [
      "/Users/daniil/anaconda3/lib/python3.7/site-packages/ipykernel_launcher.py:2: RuntimeWarning: divide by zero encountered in reciprocal\n",
      "  \n"
     ]
    },
    {
     "data": {
      "text/latex": [
       "$$\\left[\\begin{matrix}0.2 & \\infty & \\infty & \\infty & \\infty\\\\\\infty & 0.2 & \\infty & \\infty & \\infty\\\\\\infty & \\infty & 0.2 & \\infty & \\infty\\\\\\infty & \\infty & \\infty & 0.2 & \\infty\\\\\\infty & \\infty & \\infty & \\infty & 0.2\\end{matrix}\\right]$$"
      ],
      "text/plain": [
       "⎡0.2  inf  inf  inf  inf⎤\n",
       "⎢                       ⎥\n",
       "⎢inf  0.2  inf  inf  inf⎥\n",
       "⎢                       ⎥\n",
       "⎢inf  inf  0.2  inf  inf⎥\n",
       "⎢                       ⎥\n",
       "⎢inf  inf  inf  0.2  inf⎥\n",
       "⎢                       ⎥\n",
       "⎣inf  inf  inf  inf  0.2⎦"
      ]
     },
     "execution_count": 48,
     "metadata": {},
     "output_type": "execute_result"
    }
   ],
   "source": [
    "# проверка\n",
    "a = (5*E)**(-1)\n",
    "Matrix(a)\n",
    "\n",
    "#похоже на ручной ответ. Видимо, бесконечность из-за деления на 0 при возведении 0 в отрицательную степень (-1)"
   ]
  },
  {
   "cell_type": "code",
   "execution_count": null,
   "metadata": {},
   "outputs": [],
   "source": []
  },
  {
   "cell_type": "markdown",
   "metadata": {},
   "source": [
    "5.2 Вычислите определитель.."
   ]
  },
  {
   "cell_type": "code",
   "execution_count": 55,
   "metadata": {},
   "outputs": [
    {
     "data": {
      "text/latex": [
       "$$\\left[\\begin{matrix}1 & 2 & 3\\\\4 & 0 & 6\\\\7 & 8 & 9\\end{matrix}\\right]$$"
      ],
      "text/plain": [
       "⎡1  2  3⎤\n",
       "⎢       ⎥\n",
       "⎢4  0  6⎥\n",
       "⎢       ⎥\n",
       "⎣7  8  9⎦"
      ]
     },
     "execution_count": 55,
     "metadata": {},
     "output_type": "execute_result"
    }
   ],
   "source": [
    "m = np.array([[1, 2, 3] , [4, 0, 6],  [7, 8, 9]])\n",
    "Matrix(m)"
   ]
  },
  {
   "cell_type": "code",
   "execution_count": 56,
   "metadata": {},
   "outputs": [
    {
     "data": {
      "text/plain": [
       "array([[1, 2, 3],\n",
       "       [4, 0, 6],\n",
       "       [7, 8, 9]])"
      ]
     },
     "execution_count": 56,
     "metadata": {},
     "output_type": "execute_result"
    }
   ],
   "source": [
    "m"
   ]
  },
  {
   "cell_type": "code",
   "execution_count": 62,
   "metadata": {},
   "outputs": [
    {
     "data": {
      "image/png": "[encoded data removed]",
      "text/latex": [
       "$$60$$"
      ],
      "text/plain": [
       "60"
      ]
     },
     "execution_count": 62,
     "metadata": {},
     "output_type": "execute_result"
    }
   ],
   "source": [
    "# 1*(0*9 - 6*8) - 2*(4*9 - 6*7) + 3*(4*8 - 0*7) = -48-2*(36-42)+3*(32) = -48+12+96 = 66\n",
    "det_m = 1*(0*9 - 6*8) - 2*(4*9 - 6*7) + 3*(4*8 - 0*7) \n",
    "det_m"
   ]
  },
  {
   "cell_type": "code",
   "execution_count": 63,
   "metadata": {},
   "outputs": [
    {
     "data": {
      "image/png": "[encoded data removed]",
      "text/latex": [
       "$$59.999999999999986$$"
      ],
      "text/plain": [
       "59.999999999999986"
      ]
     },
     "execution_count": 63,
     "metadata": {},
     "output_type": "execute_result"
    }
   ],
   "source": [
    "# проверка\n",
    "np.linalg.det(m)"
   ]
  },
  {
   "cell_type": "code",
   "execution_count": null,
   "metadata": {},
   "outputs": [],
   "source": []
  },
  {
   "cell_type": "markdown",
   "metadata": {},
   "source": [
    "5.3.1  Вычислите матрицу, обратную данной:"
   ]
  },
  {
   "cell_type": "code",
   "execution_count": 64,
   "metadata": {},
   "outputs": [
    {
     "data": {
      "text/latex": [
       "$$\\left[\\begin{matrix}1 & 2 & 3\\\\4 & 0 & 6\\\\7 & 8 & 9\\end{matrix}\\right]$$"
      ],
      "text/plain": [
       "⎡1  2  3⎤\n",
       "⎢       ⎥\n",
       "⎢4  0  6⎥\n",
       "⎢       ⎥\n",
       "⎣7  8  9⎦"
      ]
     },
     "execution_count": 64,
     "metadata": {},
     "output_type": "execute_result"
    }
   ],
   "source": [
    "m = np.array([[1, 2, 3] , [4, 0, 6],  [7, 8, 9]])\n",
    "Matrix(m)"
   ]
  },
  {
   "cell_type": "code",
   "execution_count": 65,
   "metadata": {},
   "outputs": [],
   "source": [
    "det_m = 60"
   ]
  },
  {
   "cell_type": "code",
   "execution_count": null,
   "metadata": {},
   "outputs": [],
   "source": [
    "# ручное вычисление матрицы миноров\n",
    "Mm = [[(0*9 - 6*8) , (4*9 - 6*7) , (4*8 - 0*7)],\n",
    "     [(2*9 - 3*8) , (1*9 - 3*7) , (1*8 - 2*7)],\n",
    "     [(2*6 - 3*0) , (1*6 - 3*4) , (1*0 - 2*4)]] = \n",
    "\n",
    "=   [[(-48) , ( - 6) , (32)],\n",
    "     [( -6) , (- 12) , ( 8)],\n",
    "     [( 12) , (  -6) , ( 8)]] "
   ]
  },
  {
   "cell_type": "code",
   "execution_count": null,
   "metadata": {},
   "outputs": [],
   "source": [
    "# алгебраическое дополнение M * -1/+1\n",
    "\n",
    "Am = [[(-48) , ( 6) , (32)],\n",
    "     [( 6) , (- 12) , ( -8)],\n",
    "     [( 12) , (  6) , ( 8)]] "
   ]
  },
  {
   "cell_type": "code",
   "execution_count": 67,
   "metadata": {},
   "outputs": [
    {
     "data": {
      "image/png": "[encoded data removed]",
      "text/latex": [
       "$$-6$$"
      ],
      "text/plain": [
       "-6"
      ]
     },
     "execution_count": 67,
     "metadata": {},
     "output_type": "execute_result"
    }
   ],
   "source": [
    "# алгебраическое дополнение M * -1/+1\n",
    "\n",
    "Am = [[(-48) , ( 6) , (32)],\n",
    "     [( 6) , (- 12) , ( -8)],\n",
    "     [( 12) , (  6) , ( 8)]] "
   ]
  },
  {
   "cell_type": "code",
   "execution_count": null,
   "metadata": {},
   "outputs": [],
   "source": [
    "# транспонированная матрица алгебраических дополнений\n",
    "AmT =[[(-48) , ( 6) , (12)],\n",
    "     [( 6) , (- 12) , ( 6)],\n",
    "     [( 32) , (  -8) , ( 8)]] "
   ]
  },
  {
   "cell_type": "code",
   "execution_count": 68,
   "metadata": {},
   "outputs": [],
   "source": [
    "# A1 обратная матрица = транспонированная матрица алгебраических дополнений / детерминант = AmT/det_m"
   ]
  },
  {
   "cell_type": "code",
   "execution_count": null,
   "metadata": {},
   "outputs": [],
   "source": [
    "A1 =[[(-48/60) , ( 6/60) , (12/60)],\n",
    "     [( 6/60) , (- 12/60) , ( 6/60)],\n",
    "     [( 32/60) , (  -8/60) , ( 8/60)]] =\n",
    "\n",
    "=   [[(-0.8) , ( 0.1) , (0.2)],\n",
    "     [( 0.1) , (- 0.2) , ( 0.1)],\n",
    "     [( 8/15) , (  -2/15) , ( 2/15)]]"
   ]
  },
  {
   "cell_type": "code",
   "execution_count": 73,
   "metadata": {},
   "outputs": [
    {
     "data": {
      "text/latex": [
       "$$\\left[\\begin{matrix}-0.8 & 0.1 & 0.2\\\\0.1 & -0.2 & 0.1\\\\0.533333333333333 & -0.133333333333333 & 0.133333333333333\\end{matrix}\\right]$$"
      ],
      "text/plain": [
       "⎡      -0.8                0.1                 0.2       ⎤\n",
       "⎢                                                        ⎥\n",
       "⎢       0.1                -0.2                0.1       ⎥\n",
       "⎢                                                        ⎥\n",
       "⎣0.533333333333333  -0.133333333333333  0.133333333333333⎦"
      ]
     },
     "execution_count": 73,
     "metadata": {},
     "output_type": "execute_result"
    }
   ],
   "source": [
    "A1 = np.array([[(-0.8) , ( 0.1) , (0.2)],\n",
    "     [( 0.1) , (- 0.2) , ( 0.1)],\n",
    "     [( 8/15) , (  -2/15) , ( 2/15)]])\n",
    "Matrix(A1)"
   ]
  },
  {
   "cell_type": "code",
   "execution_count": 75,
   "metadata": {},
   "outputs": [
    {
     "data": {
      "text/latex": [
       "$$\\left[\\begin{matrix}-0.8 & 0.1 & 0.2\\\\0.1 & -0.2 & 0.1\\\\0.533333333333333 & 0.1 & -0.133333333333333\\end{matrix}\\right]$$"
      ],
      "text/plain": [
       "⎡      -0.8         0.1          0.2        ⎤\n",
       "⎢                                           ⎥\n",
       "⎢       0.1         -0.2         0.1        ⎥\n",
       "⎢                                           ⎥\n",
       "⎣0.533333333333333  0.1   -0.133333333333333⎦"
      ]
     },
     "execution_count": 75,
     "metadata": {},
     "output_type": "execute_result"
    }
   ],
   "source": [
    "# проверка\n",
    "\n",
    "A11 = np.linalg.inv(m)\n",
    "\n",
    "Matrix(A11)"
   ]
  },
  {
   "cell_type": "code",
   "execution_count": null,
   "metadata": {},
   "outputs": [],
   "source": []
  },
  {
   "cell_type": "markdown",
   "metadata": {},
   "source": [
    "5.3.2. Приведите пример матрицы 4х4, ранг которой равен 1."
   ]
  },
  {
   "cell_type": "code",
   "execution_count": 87,
   "metadata": {},
   "outputs": [
    {
     "data": {
      "text/latex": [
       "$$\\left[\\begin{matrix}1.0 & 0.0 & 0.0 & 0.0\\\\1.0 & 0.0 & 0.0 & 0.0\\\\0.0 & 0.0 & 0.0 & 0.0\\\\1.0 & 0.0 & 0.0 & 0.0\\\\1.0 & 0.0 & 0.0 & 0.0\\end{matrix}\\right]$$"
      ],
      "text/plain": [
       "⎡1.0  0.0  0.0  0.0⎤\n",
       "⎢                  ⎥\n",
       "⎢1.0  0.0  0.0  0.0⎥\n",
       "⎢                  ⎥\n",
       "⎢0.0  0.0  0.0  0.0⎥\n",
       "⎢                  ⎥\n",
       "⎢1.0  0.0  0.0  0.0⎥\n",
       "⎢                  ⎥\n",
       "⎣1.0  0.0  0.0  0.0⎦"
      ]
     },
     "execution_count": 87,
     "metadata": {},
     "output_type": "execute_result"
    }
   ],
   "source": [
    "# http://www.mathprofi.ru/rang_matricy.html\n",
    "# Ранг матрицы не больше ее размерности. Ранг больше 0 , если хотя бы один элемент не равен 0. \n",
    "# Ранг не увеличится, если дополнительные строки/столбцы линейно зависимы\n",
    "# Т.о. достаточно матрицы вида, например\n",
    "Mr1 = np.array([[1, 0, 0., 0.],   \n",
    "               [1., 0, 0., 0.],\n",
    "               [0, 0., 0, 0.],\n",
    "               [1., 0., 0., 0],\n",
    "               [1., 0., 0., 0]])\n",
    "Matrix(Mr1)"
   ]
  },
  {
   "cell_type": "code",
   "execution_count": 88,
   "metadata": {},
   "outputs": [
    {
     "data": {
      "text/plain": [
       "1"
      ]
     },
     "execution_count": 88,
     "metadata": {},
     "output_type": "execute_result"
    }
   ],
   "source": [
    "# проверка\n",
    "np.linalg.matrix_rank(Mr1)"
   ]
  },
  {
   "cell_type": "code",
   "execution_count": 91,
   "metadata": {
    "scrolled": true
   },
   "outputs": [
    {
     "data": {
      "text/latex": [
       "$$\\left[\\begin{matrix}1.0 & 0.0 & 0.0 & 0.0 & 0.0\\\\0.0 & 1.0 & 0.0 & 0.0 & 0.0\\\\0.0 & 0.0 & 1.0 & 0.0 & 0.0\\\\0.0 & 0.0 & 0.0 & 1.0 & 0.0\\\\0.0 & 0.0 & 0.0 & 0.0 & 1.0\\end{matrix}\\right]$$"
      ],
      "text/plain": [
       "⎡1.0  0.0  0.0  0.0  0.0⎤\n",
       "⎢                       ⎥\n",
       "⎢0.0  1.0  0.0  0.0  0.0⎥\n",
       "⎢                       ⎥\n",
       "⎢0.0  0.0  1.0  0.0  0.0⎥\n",
       "⎢                       ⎥\n",
       "⎢0.0  0.0  0.0  1.0  0.0⎥\n",
       "⎢                       ⎥\n",
       "⎣0.0  0.0  0.0  0.0  1.0⎦"
      ]
     },
     "execution_count": 91,
     "metadata": {},
     "output_type": "execute_result"
    }
   ],
   "source": [
    "# Пример, когда строки не линейно зависимы\n",
    "# Получили пятимерный базис\n",
    "\n",
    "Matrix(E)"
   ]
  },
  {
   "cell_type": "code",
   "execution_count": 92,
   "metadata": {},
   "outputs": [
    {
     "data": {
      "text/plain": [
       "5"
      ]
     },
     "execution_count": 92,
     "metadata": {},
     "output_type": "execute_result"
    }
   ],
   "source": [
    "# проверка\n",
    "np.linalg.matrix_rank(E)"
   ]
  },
  {
   "cell_type": "code",
   "execution_count": null,
   "metadata": {},
   "outputs": [],
   "source": []
  },
  {
   "cell_type": "markdown",
   "metadata": {},
   "source": [
    "5.4.\n",
    "Вычислите скалярное произведение двух векторов:  \n",
    "(1, 5)  и  (2, 8)\n"
   ]
  },
  {
   "cell_type": "code",
   "execution_count": null,
   "metadata": {},
   "outputs": [],
   "source": [
    "(1*2)+(5*8) = 42"
   ]
  },
  {
   "cell_type": "code",
   "execution_count": 94,
   "metadata": {},
   "outputs": [
    {
     "data": {
      "text/plain": [
       "42"
      ]
     },
     "execution_count": 94,
     "metadata": {},
     "output_type": "execute_result"
    }
   ],
   "source": [
    "# проверка\n",
    "a = np.array([1, 5]) \n",
    "b = np.array([2, 8])\n",
    "np.dot(a,b)"
   ]
  },
  {
   "cell_type": "code",
   "execution_count": null,
   "metadata": {},
   "outputs": [],
   "source": []
  },
  {
   "cell_type": "markdown",
   "metadata": {},
   "source": [
    "5.5\n",
    "Вычислите смешанное произведение трех векторов:\n",
    "(1, 5, 0), (2, 8, 7) и (7, 1.5, 3) \n"
   ]
  },
  {
   "cell_type": "code",
   "execution_count": 95,
   "metadata": {},
   "outputs": [
    {
     "data": {
      "text/latex": [
       "$$\\left[\\begin{matrix}1.0 & 5.0 & 0.0\\\\2.0 & 8.0 & 7.0\\\\7.0 & 1.5 & 3.0\\end{matrix}\\right]$$"
      ],
      "text/plain": [
       "⎡1.0  5.0  0.0⎤\n",
       "⎢             ⎥\n",
       "⎢2.0  8.0  7.0⎥\n",
       "⎢             ⎥\n",
       "⎣7.0  1.5  3.0⎦"
      ]
     },
     "execution_count": 95,
     "metadata": {},
     "output_type": "execute_result"
    }
   ],
   "source": [
    "a = np.array([1, 5, 0])\n",
    "b = np.array([2, 8, 7])\n",
    "c = np.array([7, 1.5, 3])\n",
    "\n",
    "Mabc = np.array([[1, 5, 0],[2, 8, 7],[7, 1.5, 3]])\n",
    "Matrix(Mabc)"
   ]
  },
  {
   "cell_type": "code",
   "execution_count": null,
   "metadata": {},
   "outputs": [],
   "source": [
    "# [ a x b ] * c = a * [ b x c ] = [ (a * b) * sin(a,b) ] * c "
   ]
  },
  {
   "cell_type": "code",
   "execution_count": null,
   "metadata": {},
   "outputs": [],
   "source": [
    "# Смешанное произведение равно определителю матрицы\n",
    "Mabc_det = (1*(8*3-7*1.5) - 5*(2*3-7*7) + 0) = 228.5"
   ]
  },
  {
   "cell_type": "code",
   "execution_count": 96,
   "metadata": {
    "scrolled": true
   },
   "outputs": [
    {
     "data": {
      "image/png": "[encoded data removed]",
      "text/latex": [
       "$$228.5$$"
      ],
      "text/plain": [
       "228.5"
      ]
     },
     "execution_count": 96,
     "metadata": {},
     "output_type": "execute_result"
    }
   ],
   "source": [
    "(1*(8*3-7*1.5) - 5*(2*3-7*7) + 0)"
   ]
  },
  {
   "cell_type": "code",
   "execution_count": 98,
   "metadata": {},
   "outputs": [
    {
     "data": {
      "image/png": "[encoded data removed]",
      "text/latex": [
       "$$228.5$$"
      ],
      "text/plain": [
       "228.5"
      ]
     },
     "execution_count": 98,
     "metadata": {},
     "output_type": "execute_result"
    }
   ],
   "source": [
    "# проверка\n",
    "tmp = np.cross(a,b)\n",
    "sum_abc = np.inner(tmp,c)\n",
    "sum_abc"
   ]
  },
  {
   "cell_type": "code",
   "execution_count": null,
   "metadata": {},
   "outputs": [],
   "source": []
  }
 ],
 "metadata": {
  "kernelspec": {
   "display_name": "Python 3",
   "language": "python",
   "name": "python3"
  },
  "language_info": {
   "codemirror_mode": {
    "name": "ipython",
    "version": 3
   },
   "file_extension": ".py",
   "mimetype": "text/x-python",
   "name": "python",
   "nbconvert_exporter": "python",
   "pygments_lexer": "ipython3",
   "version": "3.7.3"
  }
 },
 "nbformat": 4,
 "nbformat_minor": 2
}
