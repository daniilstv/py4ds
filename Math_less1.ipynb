{
 "cells": [
  {
   "attachments": {
    "matrix2_.jpg": {
     "image/jpeg": "[encoded data removed]"
    }
   },
   "cell_type": "markdown",
   "metadata": {},
   "source": [
    "##### 1. Задание (на листочке)  \n",
    "Вычислите:\n",
    "![matrix2_.jpg](attachment:matrix2_.jpg)"
   ]
  },
  {
   "cell_type": "code",
   "execution_count": 1,
   "metadata": {},
   "outputs": [],
   "source": [
    "import numpy as np\n",
    "import math\n",
    "from matplotlib import pyplot as plt\n",
    "from sympy import *  # http://inp.nsk.su/~grozin/python/python7.html \n",
    "init_printing()\n",
    "%matplotlib inline"
   ]
  },
  {
   "cell_type": "code",
   "execution_count": 2,
   "metadata": {},
   "outputs": [
    {
     "name": "stdout",
     "output_type": "stream",
     "text": [
      "Ответ: матрица\n",
      "\n"
     ]
    },
    {
     "data": {
      "text/latex": [
       "$$\\left[\\begin{matrix}45.0 & 90.0\\\\63.0 & 108.0\\\\101.7 & 45.0\\\\225.0 & 270.0\\end{matrix}\\right]$$"
      ],
      "text/plain": [
       "⎡45.0   90.0 ⎤\n",
       "⎢            ⎥\n",
       "⎢63.0   108.0⎥\n",
       "⎢            ⎥\n",
       "⎢101.7  45.0 ⎥\n",
       "⎢            ⎥\n",
       "⎣225.0  270.0⎦"
      ]
     },
     "execution_count": 2,
     "metadata": {},
     "output_type": "execute_result"
    }
   ],
   "source": [
    "#matrix_1 = numpy.array([[5, 7., 11.3, 25], [10, 12, 5, 30]])\n",
    "#solve_1 = 7* matrix_1 + 2 * matrix_1\n",
    "matrix_2 = np.array([[5, 10] , [7, 12],  [11.3, 5], [25, 30]])\n",
    "solve_2 = 7* matrix_2 + 2 * matrix_2\n",
    "#print(solve_1)\n",
    "print(\"Ответ: матрица\\n\")\n",
    "Matrix(solve_2)"
   ]
  },
  {
   "cell_type": "code",
   "execution_count": null,
   "metadata": {},
   "outputs": [],
   "source": []
  },
  {
   "cell_type": "markdown",
   "metadata": {},
   "source": [
    "##### 2. Задание (на листочке) -  Решите систему уравнений:\n",
    "\n",
    "3x – 2y + 5z = 7 \n",
    "\n",
    "7x + 4y – 8z = 3\n",
    "\n",
    "5x – 3y – 4z = –12\n"
   ]
  },
  {
   "cell_type": "code",
   "execution_count": 3,
   "metadata": {},
   "outputs": [
    {
     "name": "stdout",
     "output_type": "stream",
     "text": [
      "Решение системы линейных уравнений: x = 1.0, y = 3.0, z = 2.0\n"
     ]
    }
   ],
   "source": [
    "matrix = np.array([[3, -2., 5.], [7, 4., -8], [5, -3, -4]]) # Матрица (левая часть системы)\n",
    "vector = np.array([7, 3, -12]) # Вектор (правая часть системы)\n",
    "\n",
    "sol = np.linalg.solve(matrix, vector)\n",
    "y = sol[1]\n",
    "z = sol[2]\n",
    "print(f\"Решение системы линейных уравнений: x = {sol[0]}, y = {y}, z = {z}\")"
   ]
  },
  {
   "cell_type": "markdown",
   "metadata": {
    "collapsed": true
   },
   "source": [
    "Линейная или нелинейная это система? - да\n",
    "\n",
    "А каждое уравнение по отдельности? - да\n"
   ]
  },
  {
   "cell_type": "markdown",
   "metadata": {},
   "source": [
    "##### 2.2. Задание (на листочке) - Решите систему уравнений:\n",
    "x2 + y∙x – 9 = 0\n",
    "\n",
    "x – y/5 = 0\n",
    "\n"
   ]
  },
  {
   "cell_type": "code",
   "execution_count": 4,
   "metadata": {},
   "outputs": [],
   "source": [
    "x, y = symbols('x y')"
   ]
  },
  {
   "cell_type": "code",
   "execution_count": 5,
   "metadata": {},
   "outputs": [],
   "source": [
    "# Представляем y через x\n",
    "y = 5*x"
   ]
  },
  {
   "cell_type": "code",
   "execution_count": 6,
   "metadata": {},
   "outputs": [
    {
     "data": {
      "image/png": "[encoded data removed]",
      "text/latex": [
       "$$6 x^{2} - 9$$"
      ],
      "text/plain": [
       "   2    \n",
       "6⋅x  - 9"
      ]
     },
     "execution_count": 6,
     "metadata": {},
     "output_type": "execute_result"
    }
   ],
   "source": [
    "x**2 +y*x-9"
   ]
  },
  {
   "cell_type": "code",
   "execution_count": 7,
   "metadata": {
    "scrolled": true
   },
   "outputs": [
    {
     "data": {
      "image/png": "[encoded data removed]",
      "text/latex": [
       "$$\\left [ - \\frac{\\sqrt{6}}{2}, \\quad \\frac{\\sqrt{6}}{2}\\right ]$$"
      ],
      "text/plain": [
       "⎡-√6   √6⎤\n",
       "⎢────, ──⎥\n",
       "⎣ 2    2 ⎦"
      ]
     },
     "execution_count": 7,
     "metadata": {},
     "output_type": "execute_result"
    }
   ],
   "source": [
    "# Решение для x\n",
    "solve(x**2 +y*x-9)\n"
   ]
  },
  {
   "cell_type": "code",
   "execution_count": 8,
   "metadata": {},
   "outputs": [
    {
     "name": "stdout",
     "output_type": "stream",
     "text": [
      "Решение уравнения (рациональные дроби):\n",
      "\n"
     ]
    },
    {
     "data": {
      "image/png": "[encoded data removed]",
      "text/latex": [
       "$$\\left [ \\left ( - \\frac{\\sqrt{6}}{2}, \\quad - \\frac{5 \\sqrt{6}}{2}\\right ), \\quad \\left ( \\frac{\\sqrt{6}}{2}, \\quad \\frac{5 \\sqrt{6}}{2}\\right )\\right ]$$"
      ],
      "text/plain": [
       "⎡⎛-√6   -5⋅√6 ⎞  ⎛√6  5⋅√6⎞⎤\n",
       "⎢⎜────, ──────⎟, ⎜──, ────⎟⎥\n",
       "⎣⎝ 2      2   ⎠  ⎝2    2  ⎠⎦"
      ]
     },
     "execution_count": 8,
     "metadata": {},
     "output_type": "execute_result"
    }
   ],
   "source": [
    "a = solve([x**2 +y*x-9, x - y/5], [x, y])\n",
    "print(\"Решение уравнения (рациональные дроби):\\n\")\n",
    "a"
   ]
  },
  {
   "cell_type": "code",
   "execution_count": 9,
   "metadata": {
    "scrolled": true
   },
   "outputs": [
    {
     "name": "stdout",
     "output_type": "stream",
     "text": [
      "[(-sqrt(6)/2, -5*sqrt(6)/2), (sqrt(6)/2, 5*sqrt(6)/2)]\n"
     ]
    }
   ],
   "source": [
    "with evaluate(False):\n",
    "    print(a)\n"
   ]
  },
  {
   "cell_type": "code",
   "execution_count": 10,
   "metadata": {},
   "outputs": [
    {
     "name": "stdout",
     "output_type": "stream",
     "text": [
      "Решение уравнения (десятичные дроби с округлением):\n",
      " x1 = -1.224744871391589 ; y1 = -6.123724356957945 \n",
      " x2 = 1.224744871391589 ; y2 = 6.123724356957945\n"
     ]
    }
   ],
   "source": [
    "print(f\"Решение уравнения (десятичные дроби с округлением):\\n x1 = {-math.sqrt(6)/2} ; y1 = {-5*math.sqrt(6)/2} \\n x2 = {math.sqrt(6)/2} ; y2 = {5*math.sqrt(6)/2}\")"
   ]
  },
  {
   "cell_type": "markdown",
   "metadata": {},
   "source": [
    "Линейная или нелинейная это система? - это квадратная система уравнений\n",
    "\n",
    "А каждое уравнение по отдельности? -  первое уравнение квадратное"
   ]
  },
  {
   "cell_type": "code",
   "execution_count": null,
   "metadata": {},
   "outputs": [],
   "source": []
  },
  {
   "cell_type": "markdown",
   "metadata": {},
   "source": [
    "##### 3. Задание (на листочке) - Решите задачу:\n",
    "Площадь пола прямоугольной комнаты равна 48 м2,а его периметр равен 28 м. Найдите длину и ширину комнаты.\n"
   ]
  },
  {
   "cell_type": "markdown",
   "metadata": {
    "collapsed": true
   },
   "source": [
    "\n",
    "\n",
    "s_floor = a_fllor * b_floor \n",
    "\n",
    "p_floor = 2 * (a_floor + b_floor)\n",
    "\n",
    "s_floor = 48 ; p_floor = 28\n",
    "\n",
    "a_floor = x ; b_floor = y"
   ]
  },
  {
   "cell_type": "markdown",
   "metadata": {},
   "source": [
    "Решение подстановкой. Выражаем x через y\n",
    "\n",
    "\"x = 48 / y\"\n",
    "\n",
    "\"- x =  (2y - 28) / 2\""
   ]
  },
  {
   "cell_type": "markdown",
   "metadata": {},
   "source": [
    "48/y = - y + 14"
   ]
  },
  {
   "cell_type": "code",
   "execution_count": 11,
   "metadata": {},
   "outputs": [
    {
     "data": {
      "image/png": "[encoded data removed]",
      "text/latex": [
       "$$\\left [ 6, \\quad 8\\right ]$$"
      ],
      "text/plain": [
       "[6, 8]"
      ]
     },
     "execution_count": 11,
     "metadata": {},
     "output_type": "execute_result"
    }
   ],
   "source": [
    "solve(y+48/y-14, y)"
   ]
  },
  {
   "cell_type": "code",
   "execution_count": 12,
   "metadata": {},
   "outputs": [],
   "source": [
    "z = solve(y+48/y-14, y)"
   ]
  },
  {
   "cell_type": "code",
   "execution_count": 13,
   "metadata": {},
   "outputs": [
    {
     "name": "stdout",
     "output_type": "stream",
     "text": [
      "Длина и ширина комнаты равны: 6 и 8\n"
     ]
    }
   ],
   "source": [
    "print(f\"Длина и ширина комнаты равны: {z[0]} и {z[1]}\")"
   ]
  },
  {
   "cell_type": "code",
   "execution_count": null,
   "metadata": {},
   "outputs": [],
   "source": []
  },
  {
   "cell_type": "markdown",
   "metadata": {},
   "source": [
    "##### 4. Задание (в программе):\n",
    "Постройте на одном графике две кривые y(x) для функции двух переменной y(k,x)=cos(k∙x), взяв для одной кривой значение k=1, а для другой – любое другое k, не равное 1\n"
   ]
  },
  {
   "cell_type": "code",
   "execution_count": 14,
   "metadata": {},
   "outputs": [
    {
     "data": {
      "text/plain": [
       "[<matplotlib.lines.Line2D at 0x11a331080>]"
      ]
     },
     "execution_count": 14,
     "metadata": {},
     "output_type": "execute_result"
    },
    {
     "data": {
      "image/png": "[encoded data removed]",
      "text/plain": [
       "<Figure size 432x288 with 1 Axes>"
      ]
     },
     "metadata": {
      "needs_background": "light"
     },
     "output_type": "display_data"
    }
   ],
   "source": [
    "x = np.linspace(-1, 1)\n",
    "k = 1\n",
    "y1 = k*x\n",
    "\n",
    "k2 = np.linspace(-0.99, 0.99)\n",
    "a = k2*x\n",
    "y2 = np.cos(a)\n",
    "\n",
    "plt.plot(x, y2 ) #  marker = \"o\")\n",
    "plt.plot(x, y1) # marker = \"o\")"
   ]
  },
  {
   "cell_type": "code",
   "execution_count": null,
   "metadata": {},
   "outputs": [],
   "source": []
  }
 ],
 "metadata": {
  "kernelspec": {
   "display_name": "Python 3",
   "language": "python",
   "name": "python3"
  },
  "language_info": {
   "codemirror_mode": {
    "name": "ipython",
    "version": 3
   },
   "file_extension": ".py",
   "mimetype": "text/x-python",
   "name": "python",
   "nbconvert_exporter": "python",
   "pygments_lexer": "ipython3",
   "version": "3.7.3"
  }
 },
 "nbformat": 4,
 "nbformat_minor": 2
}
