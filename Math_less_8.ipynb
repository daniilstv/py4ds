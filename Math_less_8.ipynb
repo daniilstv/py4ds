{
 "cells": [
  {
   "cell_type": "code",
   "execution_count": 199,
   "metadata": {},
   "outputs": [],
   "source": [
    "import numpy as np\n",
    "import math\n",
    "import scipy\n",
    "import scipy.linalg\n",
    "from matplotlib import pyplot as plt\n",
    "%matplotlib inline\n",
    "from sympy import *  # http://inp.nsk.su/~grozin/python/python7.html \n",
    "init_printing()\n",
    "import mpl_toolkits.mplot3d "
   ]
  },
  {
   "cell_type": "markdown",
   "metadata": {},
   "source": [
    "1. Решите линейную систему:\n",
    "np.array([[1, 2, 3] , [4, 0, 6],  [7, 8, 9]]) * X = np.array([[12, 2, 1]) \n",
    "\n"
   ]
  },
  {
   "cell_type": "code",
   "execution_count": 13,
   "metadata": {
    "scrolled": true
   },
   "outputs": [
    {
     "data": {
      "text/latex": [
       "$$\\left[\\begin{matrix}1 & 2 & 3\\\\4 & 0 & 6\\\\7 & 8 & 9\\end{matrix}\\right]$$"
      ],
      "text/plain": [
       "⎡1  2  3⎤\n",
       "⎢       ⎥\n",
       "⎢4  0  6⎥\n",
       "⎢       ⎥\n",
       "⎣7  8  9⎦"
      ]
     },
     "execution_count": 13,
     "metadata": {},
     "output_type": "execute_result"
    }
   ],
   "source": [
    "Matrix(np.array([[1, 2, 3] , [4, 0, 6],  [7, 8, 9]]))"
   ]
  },
  {
   "cell_type": "code",
   "execution_count": null,
   "metadata": {},
   "outputs": [],
   "source": [
    "1.1 A*X = B\n",
    "A**(-1)*A*X = A**(-1)*B\n",
    "E*X = A**(-1)*B\n",
    "X = A**(-1)*B\n",
    "\n",
    "1.2 Необходимо найти обратную матрицу A**(-1) = Ax и умножить её на B\n",
    "\n",
    "1.3 A1 обратная матрица = транспонированная матрица алгебраических дополнений / детерминант = AmT/det_m\n",
    "\n",
    "Детерминант из прошлого ДЗ\n",
    "det_Ax = 60\n",
    "\n",
    "Транспонированная матрица алгебраических дополнений из прошлого ДЗ\n",
    "AxT =[[(-48) , ( 6) , (12)],\n",
    "     [( 6) , (- 12) , ( 6)],\n",
    "     [( 32) , (  -8) , ( 8)]] \n",
    "\n",
    "Обратная матрица A1\n",
    "    [[(-0.8) , ( 0.1) , (0.2)],\n",
    "     [( 0.1) , (- 0.2) , ( 0.1)],\n",
    "     [( 8/15) , (  -2/15) , ( 2/15)]]\n",
    "\n",
    "1.4  Умножение матриц A1*B\n",
    "\n",
    "[[(-0.8)* 12 + ( 0.1) * 2 + (0.2) * 1 ],\n",
    "[( 0.1) * 12 + (- 0.2) * 2 + ( 0.1)* 1],\n",
    "[( 8/15) * 12 + (  -2/15) *2 + ( 2/15)* 1]] = \n",
    "\n",
    "=  [[-12*8/10 + 2/10 + 2/10 ],\n",
    "    [12/10 - 4/10 + 1/10],\n",
    "    [8*12/15 - 4/15 + 2/15]] = \n",
    "\n",
    "=  [[-92/10],\n",
    "    [9/10],\n",
    "    [94/15]]\n",
    "\n",
    "Ответ: [-9.2 , 0.9 , 6(4/15)]\n",
    "\n"
   ]
  },
  {
   "cell_type": "code",
   "execution_count": 16,
   "metadata": {},
   "outputs": [
    {
     "name": "stdout",
     "output_type": "stream",
     "text": [
      "Детерминант =  60.0\n"
     ]
    }
   ],
   "source": [
    "det_Ax = round(np.linalg.det(A))\n",
    "print(\"Детерминант = \", det_Ax) "
   ]
  },
  {
   "cell_type": "code",
   "execution_count": 17,
   "metadata": {},
   "outputs": [
    {
     "data": {
      "text/latex": [
       "$$\\left[\\begin{matrix}-0.8 & 0.1 & 0.2\\\\0.1 & -0.2 & 0.1\\\\0.533333333333333 & -0.133333333333333 & 0.133333333333333\\end{matrix}\\right]$$"
      ],
      "text/plain": [
       "⎡      -0.8                0.1                 0.2       ⎤\n",
       "⎢                                                        ⎥\n",
       "⎢       0.1                -0.2                0.1       ⎥\n",
       "⎢                                                        ⎥\n",
       "⎣0.533333333333333  -0.133333333333333  0.133333333333333⎦"
      ]
     },
     "execution_count": 17,
     "metadata": {},
     "output_type": "execute_result"
    }
   ],
   "source": [
    "A1 = np.array([[(-0.8) , ( 0.1) , (0.2)],\n",
    "     [( 0.1) , (- 0.2) , ( 0.1)],\n",
    "     [( 8/15) , (  -2/15) , ( 2/15)]])\n",
    "Matrix(A1)"
   ]
  },
  {
   "cell_type": "code",
   "execution_count": null,
   "metadata": {},
   "outputs": [],
   "source": []
  },
  {
   "cell_type": "code",
   "execution_count": 12,
   "metadata": {},
   "outputs": [
    {
     "name": "stdout",
     "output_type": "stream",
     "text": [
      "Значения X равны: [-9.2         0.9         6.46666667]\n"
     ]
    }
   ],
   "source": [
    "# Проверка\n",
    "A = np.array([[1, 2, 3] , [4, 0, 6],  [7, 8, 9]]) \n",
    "B = np.array([12, 2, 1]) \n",
    "X = np.linalg.solve(A,B)\n",
    "print(\"Значения X равны:\",  X)"
   ]
  },
  {
   "cell_type": "code",
   "execution_count": null,
   "metadata": {},
   "outputs": [],
   "source": []
  },
  {
   "cell_type": "code",
   "execution_count": null,
   "metadata": {},
   "outputs": [],
   "source": [
    "2. Найдите псевдорешение: [x, y, z]"
   ]
  },
  {
   "cell_type": "code",
   "execution_count": 107,
   "metadata": {},
   "outputs": [
    {
     "data": {
      "text/latex": [
       "$$\\left[\\begin{matrix}1 & 2 & -1\\\\3 & -4 & 0\\\\8 & -5 & 2\\\\2 & 0 & -5\\\\11 & 4 & -7\\end{matrix}\\right]$$"
      ],
      "text/plain": [
       "⎡1   2   -1⎤\n",
       "⎢          ⎥\n",
       "⎢3   -4  0 ⎥\n",
       "⎢          ⎥\n",
       "⎢8   -5  2 ⎥\n",
       "⎢          ⎥\n",
       "⎢2   0   -5⎥\n",
       "⎢          ⎥\n",
       "⎣11  4   -7⎦"
      ]
     },
     "execution_count": 107,
     "metadata": {},
     "output_type": "execute_result"
    }
   ],
   "source": [
    "A = np.array([[1, 2, -1] , [3, -4, 0],  [8, -5, 2], [2, 0, -5], [11, 4, -7]])\n",
    "Matrix(A)"
   ]
  },
  {
   "cell_type": "code",
   "execution_count": 80,
   "metadata": {},
   "outputs": [
    {
     "data": {
      "text/latex": [
       "$$\\left[\\begin{matrix}1\\\\7\\\\12\\\\7\\\\15\\end{matrix}\\right]$$"
      ],
      "text/plain": [
       "⎡1 ⎤\n",
       "⎢  ⎥\n",
       "⎢7 ⎥\n",
       "⎢  ⎥\n",
       "⎢12⎥\n",
       "⎢  ⎥\n",
       "⎢7 ⎥\n",
       "⎢  ⎥\n",
       "⎣15⎦"
      ]
     },
     "execution_count": 80,
     "metadata": {},
     "output_type": "execute_result"
    }
   ],
   "source": [
    "B = np.array([[1],[7], [12], [7], [15]])\n",
    "Matrix(B)\n",
    "\n",
    "#B = np.array([ 1,7,12,7,15])"
   ]
  },
  {
   "cell_type": "code",
   "execution_count": 81,
   "metadata": {},
   "outputs": [
    {
     "data": {
      "text/plain": [
       "(array([[ 1.13919353],\n",
       "        [-0.90498444],\n",
       "        [-0.9009803 ]]),\n",
       " array([0.71523211]),\n",
       " 3,\n",
       " array([15.2817306 ,  9.59852942,  3.65197794]))"
      ]
     },
     "execution_count": 81,
     "metadata": {},
     "output_type": "execute_result"
    }
   ],
   "source": [
    "X = np.linalg.lstsq(A,B, rcond=None)\n",
    "X"
   ]
  },
  {
   "cell_type": "code",
   "execution_count": 82,
   "metadata": {},
   "outputs": [
    {
     "name": "stdout",
     "output_type": "stream",
     "text": [
      "Координаты псевдорешения x, y, z : [1.13919353] [-0.90498444] [-0.9009803]\n"
     ]
    }
   ],
   "source": [
    "print(\"Координаты псевдорешения x, y, z :\", X[0][0], X[0][1], X[0][2])"
   ]
  },
  {
   "cell_type": "code",
   "execution_count": 83,
   "metadata": {
    "scrolled": true
   },
   "outputs": [
    {
     "data": {
      "text/plain": [
       "array([ 0.23020495,  7.03751835, 11.83650984,  6.78328856, 15.21805317])"
      ]
     },
     "execution_count": 83,
     "metadata": {},
     "output_type": "execute_result"
    }
   ],
   "source": [
    "# проверка\n",
    "np.dot(A,[ 1.13919353, -0.90498444, -0.9009803 ] )"
   ]
  },
  {
   "cell_type": "code",
   "execution_count": 85,
   "metadata": {},
   "outputs": [
    {
     "data": {
      "image/png": "[encoded data removed]",
      "text/latex": [
       "$$1223.5555609759097$$"
      ],
      "text/plain": [
       "1223.5555609759097"
      ]
     },
     "execution_count": 85,
     "metadata": {},
     "output_type": "execute_result"
    }
   ],
   "source": [
    "def Q(x,y,z):\n",
    "    return ((np.linalg.norm(np.dot(A,[x,y,z]) - B))**2)\n",
    "Q(1.13919353, -0.90498444, -0.9009803)\n",
    "# тут почему-то норма невязки не сошлась"
   ]
  },
  {
   "cell_type": "code",
   "execution_count": 132,
   "metadata": {},
   "outputs": [
    {
     "data": {
      "text/plain": [
       "<matplotlib.collections.PathCollection at 0x1285e7cc0>"
      ]
     },
     "execution_count": 132,
     "metadata": {},
     "output_type": "execute_result"
    },
    {
     "data": {
      "image/png": "[encoded data removed]",
      "text/plain": [
       "<Figure size 432x288 with 1 Axes>"
      ]
     },
     "metadata": {
      "needs_background": "light"
     },
     "output_type": "display_data"
    }
   ],
   "source": [
    "#plt.gca(projection='3d')  \n",
    "plt.plot(A)\n",
    "plt.scatter(1.13919353, -0.90498444,  color='orange', s=40, marker='o')\n",
    "# сделать в 3д пока не получилось"
   ]
  },
  {
   "cell_type": "code",
   "execution_count": null,
   "metadata": {},
   "outputs": [],
   "source": []
  },
  {
   "cell_type": "code",
   "execution_count": null,
   "metadata": {},
   "outputs": [],
   "source": [
    "3. Сколько решений имеет линейная система:"
   ]
  },
  {
   "cell_type": "code",
   "execution_count": 158,
   "metadata": {},
   "outputs": [],
   "source": [
    "A = np.array([[1, 2, 3] , [4, 5, 6],  [7, 8, 9]]) \n",
    "B = np.array([12,2,1])\n",
    "# A*X = B\n",
    "# Если ноль – то измените вектор правой части так, чтобы система стала совместной, и решите ее."
   ]
  },
  {
   "cell_type": "code",
   "execution_count": 159,
   "metadata": {},
   "outputs": [
    {
     "data": {
      "text/plain": [
       "(array([-7.69444444, -0.61111111,  6.47222222]),\n",
       " array([], dtype=float64),\n",
       " 2,\n",
       " array([1.68481034e+01, 1.06836951e+00, 3.33475287e-16]))"
      ]
     },
     "execution_count": 159,
     "metadata": {},
     "output_type": "execute_result"
    }
   ],
   "source": [
    "X = np.linalg.lstsq(A,B, rcond=None)\n",
    "X\n",
    "# ранг = 2, 2!=3, система не совместна."
   ]
  },
  {
   "cell_type": "code",
   "execution_count": 160,
   "metadata": {},
   "outputs": [
    {
     "data": {
      "image/png": "[encoded data removed]",
      "text/latex": [
       "$$-9.51619735392994e-16$$"
      ],
      "text/plain": [
       "-9.51619735392994e-16"
      ]
     },
     "execution_count": 160,
     "metadata": {},
     "output_type": "execute_result"
    }
   ],
   "source": [
    "np.linalg.det(A)\n",
    "# Определитель равен нулю, матрица вырождена"
   ]
  },
  {
   "cell_type": "code",
   "execution_count": 161,
   "metadata": {},
   "outputs": [
    {
     "data": {
      "text/plain": [
       "array([10.5       ,  5.00000001, -0.49999998])"
      ]
     },
     "execution_count": 161,
     "metadata": {},
     "output_type": "execute_result"
    }
   ],
   "source": [
    "#проверка\n",
    "np.dot(A,[ -7.69444444, -0.61111111,  6.47222222 ] )\n",
    "# решения не совпали"
   ]
  },
  {
   "cell_type": "code",
   "execution_count": 148,
   "metadata": {
    "scrolled": true
   },
   "outputs": [
    {
     "data": {
      "text/plain": [
       "[<matplotlib.lines.Line2D at 0x128af4eb8>,\n",
       " <matplotlib.lines.Line2D at 0x128afb048>,\n",
       " <matplotlib.lines.Line2D at 0x128afb198>]"
      ]
     },
     "execution_count": 148,
     "metadata": {},
     "output_type": "execute_result"
    },
    {
     "data": {
      "image/png": "[encoded data removed]",
      "text/plain": [
       "<Figure size 432x288 with 1 Axes>"
      ]
     },
     "metadata": {
      "needs_background": "light"
     },
     "output_type": "display_data"
    }
   ],
   "source": [
    "plt.plot(A)\n",
    "# ого, прямые параллельны. Перекрестить прямые можно коэффициентом при переменных. Свободный член даст сдвиг.\n",
    "# Вероятно их можно совместить, получив бесконечное множество решений."
   ]
  },
  {
   "cell_type": "code",
   "execution_count": 173,
   "metadata": {},
   "outputs": [],
   "source": [
    "B1 = np.array([[12,2,1]])"
   ]
  },
  {
   "cell_type": "code",
   "execution_count": 175,
   "metadata": {},
   "outputs": [
    {
     "name": "stdout",
     "output_type": "stream",
     "text": [
      "[[ 1  2  3 12]\n",
      " [ 4  5  6  2]\n",
      " [ 7  8  9  1]]\n"
     ]
    }
   ],
   "source": [
    "C = np.concatenate((A, B1.transpose()), axis = 1)\n",
    "print(C)"
   ]
  },
  {
   "cell_type": "code",
   "execution_count": 178,
   "metadata": {},
   "outputs": [
    {
     "data": {
      "text/plain": [
       "(2, 3)"
      ]
     },
     "execution_count": 178,
     "metadata": {},
     "output_type": "execute_result"
    }
   ],
   "source": [
    "np.linalg.matrix_rank(A) , np.linalg.matrix_rank(C)"
   ]
  },
  {
   "cell_type": "code",
   "execution_count": 189,
   "metadata": {},
   "outputs": [
    {
     "name": "stdout",
     "output_type": "stream",
     "text": [
      "-9.51619735392994e-16\n"
     ]
    },
    {
     "data": {
      "text/plain": [
       "(array([ 5.66666667,  2.66666667, -0.33333333]),\n",
       " array([], dtype=float64),\n",
       " 2,\n",
       " array([1.68481034e+01, 1.06836951e+00, 3.33475287e-16]))"
      ]
     },
     "execution_count": 189,
     "metadata": {},
     "output_type": "execute_result"
    }
   ],
   "source": [
    "A1 = np.array([[1, 2, 3] , [4, 5, 6],  [7, 8, 9]]) \n",
    "B1 = np.array([12,30,60])\n",
    "X1 = np.linalg.lstsq(A1,B1, rcond=None)\n",
    "print(np.linalg.det(A1))\n",
    "X1"
   ]
  },
  {
   "cell_type": "code",
   "execution_count": null,
   "metadata": {},
   "outputs": [],
   "source": []
  },
  {
   "cell_type": "code",
   "execution_count": null,
   "metadata": {},
   "outputs": [],
   "source": [
    "4. Вычислите LU-разложение матрицы:"
   ]
  },
  {
   "cell_type": "code",
   "execution_count": 190,
   "metadata": {},
   "outputs": [],
   "source": [
    "A2 = np.array([[1, 2, 3] , [2, 16, 21],  [4, 28, 73]]) \n",
    "# После этого придумайте вектор правых частей и решите полученную линейную систему трех уравнений с данной матрицей."
   ]
  },
  {
   "cell_type": "code",
   "execution_count": 201,
   "metadata": {},
   "outputs": [
    {
     "name": "stdout",
     "output_type": "stream",
     "text": [
      "[[ 1.    0.    0.  ]\n",
      " [ 0.25  1.    0.  ]\n",
      " [ 0.5  -0.4   1.  ]]\n",
      "[[  4.    28.    73.  ]\n",
      " [  0.    -5.   -15.25]\n",
      " [  0.     0.   -21.6 ]]\n"
     ]
    }
   ],
   "source": [
    "P, L, U = scipy.linalg.lu(A2)\n",
    "print(L)\n",
    "print(U)"
   ]
  },
  {
   "cell_type": "code",
   "execution_count": 203,
   "metadata": {},
   "outputs": [],
   "source": [
    "# A2 * X2 = B2\n",
    "B2 = np.array([1,2,3])"
   ]
  },
  {
   "cell_type": "code",
   "execution_count": 205,
   "metadata": {},
   "outputs": [
    {
     "data": {
      "text/plain": [
       "(array([ 1.01388889,  0.03472222, -0.02777778]),\n",
       " array([], dtype=float64),\n",
       " 3,\n",
       " array([82.41767138,  7.1264625 ,  0.73551139]))"
      ]
     },
     "execution_count": 205,
     "metadata": {},
     "output_type": "execute_result"
    }
   ],
   "source": [
    "X2 = np.linalg.lstsq(A2,B2, rcond=None)\n",
    "X2"
   ]
  },
  {
   "cell_type": "code",
   "execution_count": 207,
   "metadata": {},
   "outputs": [
    {
     "name": "stdout",
     "output_type": "stream",
     "text": [
      "Значения матрицы Х2: [ 1.01388889  0.03472222 -0.02777778]\n"
     ]
    }
   ],
   "source": [
    "print(\"Значения матрицы Х2:\", X2[0])"
   ]
  },
  {
   "cell_type": "code",
   "execution_count": 209,
   "metadata": {},
   "outputs": [
    {
     "data": {
      "text/plain": [
       "(array([ 1.38191882, -0.18081181,  0.0202952 ]),\n",
       " array([], dtype=float64),\n",
       " 2,\n",
       " array([9.65316119, 2.41173777]))"
      ]
     },
     "execution_count": 209,
     "metadata": {},
     "output_type": "execute_result"
    }
   ],
   "source": [
    "A3 = np.array([[1, 2, -1] , [8, -5, 2]]) \n",
    "B3 = np.array([1, 12]) \n",
    "\n",
    "# A3 * X3 = B3\n",
    "\n",
    "X3 = np.linalg.lstsq(A3,B3, rcond=None)\n",
    "X3"
   ]
  },
  {
   "cell_type": "code",
   "execution_count": 211,
   "metadata": {},
   "outputs": [
    {
     "data": {
      "image/png": "[encoded data removed]",
      "text/latex": [
       "$$1.0000001654807488e-16$$"
      ],
      "text/plain": [
       "1.0000001654807488e-16"
      ]
     },
     "execution_count": 211,
     "metadata": {},
     "output_type": "execute_result"
    }
   ],
   "source": [
    "def Q(x,y,z):\n",
    "    return ((np.linalg.norm(np.dot(A3,[x,y,z]) - B3))**2)\n",
    "Q(1.38191882, -0.18081181,  0.0202952)\n"
   ]
  },
  {
   "cell_type": "code",
   "execution_count": null,
   "metadata": {},
   "outputs": [],
   "source": []
  },
  {
   "cell_type": "code",
   "execution_count": null,
   "metadata": {},
   "outputs": [],
   "source": []
  },
  {
   "cell_type": "code",
   "execution_count": null,
   "metadata": {},
   "outputs": [],
   "source": []
  },
  {
   "cell_type": "code",
   "execution_count": null,
   "metadata": {},
   "outputs": [],
   "source": [
    "5. Найдите нормальное псевдорешение недоопределенной системы:\n",
    "    Для этого определите функцию Q(x,y,z), равную норме решения, и найдите ее минимум. "
   ]
  },
  {
   "cell_type": "code",
   "execution_count": null,
   "metadata": {},
   "outputs": [],
   "source": [
    "def Q(x,y,z):\n",
    "    return ((np.linalg.norm(np.dot(A3,[x,y,z]) - B3))**2)\n",
    "Q(1.38191882, -0.18081181,  0.0202952)"
   ]
  },
  {
   "cell_type": "code",
   "execution_count": null,
   "metadata": {},
   "outputs": [],
   "source": []
  },
  {
   "cell_type": "code",
   "execution_count": null,
   "metadata": {},
   "outputs": [],
   "source": []
  },
  {
   "cell_type": "code",
   "execution_count": null,
   "metadata": {},
   "outputs": [],
   "source": [
    "6. Найдите одно из псевдорешений вырожденной системы:\n",
    "    Попробуйте также отыскать и нормальное псевдорешение."
   ]
  },
  {
   "cell_type": "code",
   "execution_count": 213,
   "metadata": {},
   "outputs": [
    {
     "name": "stdout",
     "output_type": "stream",
     "text": [
      "-9.51619735392994e-16\n"
     ]
    },
    {
     "data": {
      "text/plain": [
       "(array([ 1.25,  0.5 , -0.25]),\n",
       " array([], dtype=float64),\n",
       " 2,\n",
       " array([1.68481034e+01, 1.06836951e+00, 3.33475287e-16]))"
      ]
     },
     "execution_count": 213,
     "metadata": {},
     "output_type": "execute_result"
    }
   ],
   "source": [
    "A5 = np.array([[1, 2, 3] , [4, 5, 6],  [7, 8, 9]]) \n",
    "B5 = np.array([2,5,11])\n",
    "X5 = np.linalg.lstsq(A5,B5, rcond=None)\n",
    "print(np.linalg.det(A5))\n",
    "X5"
   ]
  },
  {
   "cell_type": "code",
   "execution_count": null,
   "metadata": {},
   "outputs": [],
   "source": []
  }
 ],
 "metadata": {
  "kernelspec": {
   "display_name": "Python 3",
   "language": "python",
   "name": "python3"
  },
  "language_info": {
   "codemirror_mode": {
    "name": "ipython",
    "version": 3
   },
   "file_extension": ".py",
   "mimetype": "text/x-python",
   "name": "python",
   "nbconvert_exporter": "python",
   "pygments_lexer": "ipython3",
   "version": "3.7.3"
  }
 },
 "nbformat": 4,
 "nbformat_minor": 2
}
