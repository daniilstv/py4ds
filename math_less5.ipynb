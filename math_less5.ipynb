{
 "cells": [
  {
   "cell_type": "code",
   "execution_count": 2,
   "metadata": {},
   "outputs": [],
   "source": [
    "import numpy as np\n",
    "import math\n",
    "import itertools\n",
    "from matplotlib import pyplot as plt\n",
    "%matplotlib inline"
   ]
  },
  {
   "cell_type": "markdown",
   "metadata": {},
   "source": [
    "1. Напишите код, моделирующий выпадение поля в рулетке (с учетом поля зеро)."
   ]
  },
  {
   "cell_type": "code",
   "execution_count": 3,
   "metadata": {},
   "outputs": [
    {
     "name": "stdout",
     "output_type": "stream",
     "text": [
      "Шарик остановился на 14\n"
     ]
    }
   ],
   "source": [
    "x = np.random.randint(0, high=37)\n",
    "print(\"Шарик остановился на\", x)"
   ]
  },
  {
   "cell_type": "code",
   "execution_count": null,
   "metadata": {},
   "outputs": [],
   "source": []
  },
  {
   "cell_type": "markdown",
   "metadata": {},
   "source": [
    "2.1 Напишите код, проверяющий любую из теорем сложения или умножения вероятности на примере рулетки или подбрасывания монетки.\n",
    "\n",
    "2.2 Сгенерируйте десять выборок случайных чисел х0, …, х9 и постройте гистограмму распределения случайной суммы х0+х1+ …+ х9."
   ]
  },
  {
   "cell_type": "code",
   "execution_count": 6,
   "metadata": {
    "scrolled": true
   },
   "outputs": [
    {
     "name": "stdout",
     "output_type": "stream",
     "text": [
      "Теоритическая вероятность выпадения четного за два вращения рулетки 0.972972972972973\n",
      "В 100000 экспериментах получили 73539 четных значений\n",
      "Проверка экспериментом показала вероятность 0.73539\n"
     ]
    }
   ],
   "source": [
    "# 2.1\n",
    "# Вероятность выпадения четных близка к 1/2 и составляет 18/37\n",
    "\n",
    "\n",
    "# 2.1.1 Сложение вероятности. Хотя бы одно четное за две попытки выпадет с вероятностью 18/37 + 18/37 \n",
    "p = 18/37 + 18/37\n",
    "n = 100000\n",
    "m = 0\n",
    "\n",
    "for i in range(n):\n",
    "    x1 = np.random.randint(0, high=37)\n",
    "    x2 = np.random.randint(0, high=37)\n",
    "    if (x1 != 0 and x1 % 2 == 0) or (x2 != 0 and x2 % 2 == 0):\n",
    "        m += 1\n",
    "    \n",
    "print(\"Теоритическая вероятность выпадения четного за два вращения рулетки\", p)\n",
    "print(f\"В {n} экспериментах получили {m} четных значений\"   )\n",
    "print(\"Проверка экспериментом показала вероятность\", m/n)\n",
    "\n",
    "# На практике всегда выпадает около 0,73 , а не 0,97. Вероятно это из-за псевдослучайности. Или ошибка в коде."
   ]
  },
  {
   "cell_type": "code",
   "execution_count": 7,
   "metadata": {
    "scrolled": true
   },
   "outputs": [
    {
     "name": "stdout",
     "output_type": "stream",
     "text": [
      "Теоритическая вероятность выпадения четного за два вращения рулетки 0.23666910153396642\n",
      "В 100000 экспериментах получили 23661 четных значений\n",
      "На практике вероятность составила 0.23661\n"
     ]
    }
   ],
   "source": [
    "# 2.1.2  Умножение вероятности. Два четных подряд выпадет с вероятностью 18/37 * 18/37 \n",
    "p = 18/37 * 18/37\n",
    "n = 100000\n",
    "m = 0\n",
    "\n",
    "for i in range(n):\n",
    "    x1 = np.random.randint(0, high=37)\n",
    "    x2 = np.random.randint(0, high=37)\n",
    "    if x1 != 0 and x2 != 0 and x1 % 2 == 0 and x2 % 2 == 0:\n",
    "        m += 1\n",
    "    \n",
    "print(\"Теоритическая вероятность выпадения четного за два вращения рулетки\", p)\n",
    "print(f\"В {n} экспериментах получили {m} четных значений\"   )\n",
    "print(\"На практике вероятность составила\", m/n)\n"
   ]
  },
  {
   "cell_type": "code",
   "execution_count": 9,
   "metadata": {
    "scrolled": true
   },
   "outputs": [
    {
     "data": {
      "image/png": "[encoded data removed]",
      "text/plain": [
       "<Figure size 432x288 with 1 Axes>"
      ]
     },
     "metadata": {
      "needs_background": "light"
     },
     "output_type": "display_data"
    }
   ],
   "source": [
    "# 2.2\n",
    "y = []\n",
    "for i in  range(1000):\n",
    "    x = np.random.randint(0, high=37, size = 10)\n",
    "    y_tmp = np.sum(x)\n",
    "    y.append(y_tmp)\n",
    "    \n",
    "#print(y)\n",
    "plt.hist(y)\n",
    "plt.xlabel(\"Сумма выборки\")\n",
    "plt.ylabel('Количество значений')\n",
    "plt.show()"
   ]
  },
  {
   "cell_type": "markdown",
   "metadata": {},
   "source": [
    "3.1 Дополните код Монте-Карло последовательности независимых испытаний расчетом соответствующих вероятностей (через биномиальное распределение) \n",
    "и сравните результаты.\n",
    "\n",
    "3.2 Повторите расчеты биномиальных коэффициентов и вероятностей k успехов в последовательности из n независимых испытаний, взяв другие значения n и k.\n"
   ]
  },
  {
   "cell_type": "code",
   "execution_count": 10,
   "metadata": {
    "scrolled": true
   },
   "outputs": [
    {
     "name": "stdout",
     "output_type": "stream",
     "text": [
      "k =  354 ; Испытаний:  1000 ; Доля: 0.354\n",
      "Расчетная вероятность выпадения  2 успехов из 4 испытаний -  0.375\n"
     ]
    }
   ],
   "source": [
    "# 3.1\n",
    "k, n = 0, 1000\n",
    "\n",
    "x1 = np.random.randint(0, high=2, size=n)\n",
    "x2 = np.random.randint(0, high=2, size=n)\n",
    "x3 = np.random.randint(0, high=2, size=n)\n",
    "x4 = np.random.randint(0, high=2, size=n)\n",
    "\n",
    "# Проверяем, чтобы за четыре испытания четное выпало два раза.\n",
    "\n",
    "x = x1 + x2 + x3 + x4\n",
    "\n",
    "for i in range(0,n):\n",
    "    if x[i] == 2:\n",
    "        k += 1\n",
    "        \n",
    "print (\"k = \", k ,\"; Испытаний: \", n, \"; Доля:\", k/n)\n",
    "\n",
    "k1 = 2\n",
    "n1 = 4\n",
    "p = 0.5\n",
    "q = 0.5\n",
    "cnk = math.factorial(n1)/(math.factorial(k1)*math.factorial(n1-k1))\n",
    "pnk = cnk * (p**k1)* (q**(n1-k1))\n",
    "pnk1 = cnk / (2**n1)\n",
    "print(\"Расчетная вероятность выпадения \", k1, \"успехов из\", n1 ,\"испытаний - \", pnk )"
   ]
  },
  {
   "cell_type": "code",
   "execution_count": 13,
   "metadata": {},
   "outputs": [
    {
     "name": "stdout",
     "output_type": "stream",
     "text": [
      "k =  318 ; Испытаний:  1000 ; Доля: 0.318\n",
      "Расчетная вероятность выпадения  3 успехов из 6 испытаний -  0.3125\n"
     ]
    }
   ],
   "source": [
    "# 3.2\n",
    "k, n = 0, 1000\n",
    "\n",
    "x1 = np.random.randint(0, high=2, size=n)\n",
    "x2 = np.random.randint(0, high=2, size=n)\n",
    "x3 = np.random.randint(0, high=2, size=n)\n",
    "x4 = np.random.randint(0, high=2, size=n)\n",
    "x5 = np.random.randint(0, high=2, size=n)\n",
    "x6 = np.random.randint(0, high=2, size=n)\n",
    "\n",
    "# Проверяем, чтобы за шесть испытаний четное выпало три раза.\n",
    "\n",
    "x = x1 + x2 + x3 + x4 + x5 + x6\n",
    "\n",
    "for i in range(0,n):\n",
    "    if x[i] == 3:\n",
    "        k += 1\n",
    "        \n",
    "print (\"k = \", k ,\"; Испытаний: \", n, \"; Доля:\", k/n)\n",
    "\n",
    "k1 = 3\n",
    "n1 = 6\n",
    "p = 0.5\n",
    "q = 0.5\n",
    "cnk = math.factorial(n1)/(math.factorial(k1)*math.factorial(n1-k1))\n",
    "pnk = cnk * (p**k1)* (q**(n1-k1))\n",
    "pnk1 = cnk / (2**n1)\n",
    "print(\"Расчетная вероятность выпадения \", k1, \"успехов из\", n1 ,\"испытаний - \", pnk )\n",
    "\n",
    "# фактическое возле 0.22 , а расчетное - 0.3125 "
   ]
  },
  {
   "cell_type": "markdown",
   "metadata": {},
   "source": [
    "4. Из урока по комбинаторике повторите расчеты, сгенерировав возможные варианты перестановок для других значений n и k\n"
   ]
  },
  {
   "cell_type": "code",
   "execution_count": 11,
   "metadata": {},
   "outputs": [
    {
     "name": "stdout",
     "output_type": "stream",
     "text": [
      "c3\n",
      "cv\n",
      "c4\n",
      "cd\n",
      "3c\n",
      "3v\n",
      "34\n",
      "3d\n",
      "vc\n",
      "v3\n",
      "v4\n",
      "vd\n",
      "4c\n",
      "43\n",
      "4v\n",
      "4d\n",
      "dc\n",
      "d3\n",
      "dv\n",
      "d4\n",
      "Количество вариантов: n =  20\n"
     ]
    }
   ],
   "source": [
    "# 4.1 Размещение 2 из 5\n",
    "n = 0\n",
    "for p in itertools.permutations(\"c3v4d\",2):\n",
    "    print(\"\".join(str(x) for x in p))\n",
    "    n +=1\n",
    "print(\"Количество вариантов: n = \",n)"
   ]
  },
  {
   "cell_type": "code",
   "execution_count": 12,
   "metadata": {},
   "outputs": [
    {
     "name": "stdout",
     "output_type": "stream",
     "text": [
      "c3\n",
      "cv\n",
      "c4\n",
      "cd\n",
      "3v\n",
      "34\n",
      "3d\n",
      "v4\n",
      "vd\n",
      "4d\n",
      "Количество вариантов: n =  10\n"
     ]
    }
   ],
   "source": [
    "# 4.2 Сочетание 2 из 5\n",
    "n = 0\n",
    "for p in itertools.combinations(\"c3v4d\",2):\n",
    "    print(\"\".join(str(x) for x in p))\n",
    "    n +=1\n",
    "print(\"Количество вариантов: n = \",n)"
   ]
  },
  {
   "cell_type": "code",
   "execution_count": 196,
   "metadata": {},
   "outputs": [
    {
     "name": "stdout",
     "output_type": "stream",
     "text": [
      "123\n",
      "132\n",
      "213\n",
      "231\n",
      "312\n",
      "321\n",
      "Количество вариантов: n =  6\n"
     ]
    }
   ],
   "source": [
    "# 4.3 Перестановка 3 из 3\n",
    "n = 0\n",
    "for p in itertools.permutations(\"123\",3):\n",
    "    print(\"\".join(str(x) for x in p))\n",
    "    n +=1\n",
    "print(\"Количество вариантов: n = \",n)"
   ]
  },
  {
   "cell_type": "markdown",
   "metadata": {},
   "source": [
    "5. Дополните код расчетом коэффициента корреляции x и y по формуле"
   ]
  },
  {
   "cell_type": "code",
   "execution_count": 51,
   "metadata": {},
   "outputs": [
    {
     "name": "stdout",
     "output_type": "stream",
     "text": [
      "0.49397639841362445 0.23745017366677387\n"
     ]
    },
    {
     "data": {
      "image/png": "[encoded data removed]",
      "text/plain": [
       "<Figure size 432x288 with 1 Axes>"
      ]
     },
     "metadata": {
      "needs_background": "light"
     },
     "output_type": "display_data"
    }
   ],
   "source": [
    "n = 100\n",
    "r = 0.6\n",
    "x = np.random.rand(n)\n",
    "y = r * x + ( 1 - r) * np.random.rand(n)\n",
    "\n",
    "plt.plot(x,y,\"o\")\n",
    "plt.xlabel(\"x\")\n",
    "plt.ylabel('y')\n",
    "plt.grid(True)\n",
    "\n",
    "a = (np.sum(x) * np.sum(y) - n*np.sum(x*y))/(np.sum(x)*np.sum(x) - n*np.sum(x*x))\n",
    "b = (np.sum(y) - a*np.sum(x))/n\n",
    "\n",
    "print(a,b)\n",
    "plt.plot([0,1], [b,a+b])\n",
    "plt.show()"
   ]
  },
  {
   "cell_type": "code",
   "execution_count": 67,
   "metadata": {},
   "outputs": [
    {
     "name": "stdout",
     "output_type": "stream",
     "text": [
      "0.7879233251679284\n"
     ]
    }
   ],
   "source": [
    "# 4\n",
    "x_avg = sum(x) / len(x)\n",
    "y_avg = sum(y) / len(y)    \n",
    "var_x = sum((x_i - x_avg)**2 for x_i in x)\n",
    "var_y = sum((y_i - y_avg)**2 for y_i in y)    \n",
    "numerator = sum((x_i - x_avg) * (y_i - y_avg) for x_i, y_i in zip(x, y))\n",
    "denominator = math.sqrt(var_x * var_y)\n",
    "\n",
    "print(numerator / denominator)\n",
    "    \n",
    "    "
   ]
  },
  {
   "cell_type": "code",
   "execution_count": 68,
   "metadata": {},
   "outputs": [
    {
     "name": "stdout",
     "output_type": "stream",
     "text": [
      "0.7879233251679287\n"
     ]
    }
   ],
   "source": [
    "x_avg = np.mean(x)\n",
    "y_avg = np.mean(y) \n",
    "numerator = np.sum((x - x_avg) * (y - y_avg))\n",
    "denominator = np.sqrt(np.sum(np.power(x - x_avg, 2)) * np.sum(np.power(y - y_avg, 2)))\n",
    "print(numerator / denominator)"
   ]
  },
  {
   "cell_type": "code",
   "execution_count": 71,
   "metadata": {},
   "outputs": [
    {
     "name": "stdout",
     "output_type": "stream",
     "text": [
      "0.7879233251679287\n"
     ]
    }
   ],
   "source": [
    "from scipy.stats.stats import pearsonr\n",
    "r = pearsonr(x, y)\n",
    "print(r[0])"
   ]
  },
  {
   "cell_type": "code",
   "execution_count": 72,
   "metadata": {},
   "outputs": [
    {
     "data": {
      "text/plain": [
       "0.7879233251679283"
      ]
     },
     "execution_count": 72,
     "metadata": {},
     "output_type": "execute_result"
    }
   ],
   "source": [
    "import numpy\n",
    "numpy.corrcoef(x, y)[0, 1]"
   ]
  },
  {
   "cell_type": "code",
   "execution_count": 73,
   "metadata": {},
   "outputs": [
    {
     "name": "stdout",
     "output_type": "stream",
     "text": [
      "0.7879233251679283\n"
     ]
    }
   ],
   "source": [
    "from scipy.stats import linregress\n",
    "r = linregress(x, y)\n",
    "print(r[2])"
   ]
  }
 ],
 "metadata": {
  "kernelspec": {
   "display_name": "Python 3",
   "language": "python",
   "name": "python3"
  }
 },
 "nbformat": 4,
 "nbformat_minor": 2
}
