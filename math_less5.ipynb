{
 "cells": [
  {
   "cell_type": "code",
   "execution_count": 1,
   "metadata": {},
   "outputs": [],
   "source": [
    "import numpy as np\n",
    "import math\n",
    "from matplotlib import pyplot as plt\n",
    "%matplotlib inline"
   ]
  },
  {
   "cell_type": "markdown",
   "metadata": {},
   "source": [
    "1. Напишите код, моделирующий выпадение поля в рулетке (с учетом поля зеро)."
   ]
  },
  {
   "cell_type": "code",
   "execution_count": 39,
   "metadata": {},
   "outputs": [
    {
     "name": "stdout",
     "output_type": "stream",
     "text": [
      "Шарик остановился на 26\n"
     ]
    }
   ],
   "source": [
    "x = np.random.randint(0, high=37)\n",
    "print(\"Шарик остановился на\", x)"
   ]
  },
  {
   "cell_type": "code",
   "execution_count": null,
   "metadata": {},
   "outputs": [],
   "source": []
  },
  {
   "cell_type": "markdown",
   "metadata": {},
   "source": [
    "2.1 Напишите код, проверяющий любую из теорем сложения или умножения вероятности на примере рулетки или подбрасывания монетки.\n",
    "\n",
    "2.2 Сгенерируйте десять выборок случайных чисел х0, …, х9 и постройте гистограмму распределения случайной суммы х0+х1+ …+ х9."
   ]
  },
  {
   "cell_type": "code",
   "execution_count": 97,
   "metadata": {},
   "outputs": [
    {
     "name": "stdout",
     "output_type": "stream",
     "text": [
      "Теоритическая вероятность выпадения четного за два вращения рулетки 0.972972972972973\n",
      "В 100000 экспериментах получили 73588 четных значений\n",
      "Проверка экспериментом показала вероятность 0.73588\n"
     ]
    }
   ],
   "source": [
    "# 2.1\n",
    "# Вероятность выпадения четных близка к 1/2 и составляет 18/37\n",
    "\n",
    "\n",
    "# 2.1.1 Сложение вероятности. Четное за две попытки выпадет с вероятностью 18/37 + 18/37 \n",
    "p = 18/37 + 18/37\n",
    "n = 100000\n",
    "m = 0\n",
    "\n",
    "for i in range(n):\n",
    "    x1 = np.random.randint(0, high=37)\n",
    "    x2 = np.random.randint(0, high=37)\n",
    "    if (x1 != 0 and x1 % 2 == 0) or (x1 != 0 and x2 % 2 == 0):\n",
    "        m += 1\n",
    "    \n",
    "print(\"Теоритическая вероятность выпадения четного за два вращения рулетки\", p)\n",
    "print(f\"В {n} экспериментах получили {m} четных значений\"   )\n",
    "print(\"Проверка экспериментом показала вероятность\", m/n)\n",
    "\n",
    "# На практике всегда выпадает около 0,73 , а не 0,97. Вероятно это из-за пс"
   ]
  },
  {
   "cell_type": "code",
   "execution_count": 99,
   "metadata": {
    "scrolled": true
   },
   "outputs": [
    {
     "name": "stdout",
     "output_type": "stream",
     "text": [
      "Теоритическая вероятность выпадения четного за два вращения рулетки 0.23666910153396642\n",
      "В 100000 экспериментах получили 23763 четных значений\n",
      "На практике вероятность составила 0.23763\n"
     ]
    }
   ],
   "source": [
    "# 2.1.2  Умножение вероятности. Два четных подрят выпадет с вероятностью 18/37 * 18/37 \n",
    "p = 18/37 * 18/37\n",
    "n = 100000\n",
    "m = 0\n",
    "\n",
    "for i in range(n):\n",
    "    x1 = np.random.randint(0, high=37)\n",
    "    x2 = np.random.randint(0, high=37)\n",
    "    if x1 != 0 and x2 != 0 and x1 % 2 == 0 and x2 % 2 == 0:\n",
    "        m += 1\n",
    "    \n",
    "print(\"Теоритическая вероятность выпадения четного за два вращения рулетки\", p)\n",
    "print(f\"В {n} экспериментах получили {m} четных значений\"   )\n",
    "print(\"На практике вероятность составила\", m/n)\n"
   ]
  },
  {
   "cell_type": "code",
   "execution_count": 58,
   "metadata": {
    "scrolled": true
   },
   "outputs": [
    {
     "name": "stdout",
     "output_type": "stream",
     "text": [
      "[215, 136, 212, 172, 175, 239, 230, 147, 142, 173]\n"
     ]
    },
    {
     "data": {
      "image/png": "[encoded data removed]",
      "text/plain": [
       "<Figure size 432x288 with 1 Axes>"
      ]
     },
     "metadata": {
      "needs_background": "light"
     },
     "output_type": "display_data"
    }
   ],
   "source": [
    "# 2.2\n",
    "y = []\n",
    "for i in  range(10):\n",
    "    x = np.random.randint(0, high=37, size = 10)\n",
    "    y_tmp = np.sum(x)\n",
    "    y.append(y_tmp)\n",
    "    \n",
    "print(y)\n",
    "plt.hist(y)\n",
    "plt.xlabel(\"Сумма выборки\")\n",
    "plt.ylabel('Количество значений')\n",
    "plt.show()"
   ]
  },
  {
   "cell_type": "markdown",
   "metadata": {},
   "source": [
    "3.1 Дополните код Монте-Карло последовательности независимых испытаний расчетом соответствующих вероятностей (через биномиальное распределение) \n",
    "и сравните результаты.\n",
    "\n",
    "3.2 Повторите расчеты биномиальных коэффициентов и вероятностей k успехов в последовательности из n независимых испытаний, взяв другие значения n и k.\n"
   ]
  },
  {
   "cell_type": "markdown",
   "metadata": {},
   "source": [
    "4. Из урока по комбинаторике повторите расчеты, сгенерировав возможные варианты перестановок для других значений n и k\n"
   ]
  },
  {
   "cell_type": "markdown",
   "metadata": {},
   "source": [
    "5. Дополните код расчетом коэффициента корреляции x и y по формуле"
   ]
  },
  {
   "cell_type": "code",
   "execution_count": null,
   "metadata": {},
   "outputs": [],
   "source": []
  }
 ],
 "metadata": {
  "kernelspec": {
   "display_name": "Python 3",
   "language": "python",
   "name": "python3"
  },
  "language_info": {
   "codemirror_mode": {
    "name": "ipython",
    "version": 3
   },
   "file_extension": ".py",
   "mimetype": "text/x-python",
   "name": "python",
   "nbconvert_exporter": "python",
   "pygments_lexer": "ipython3",
   "version": "3.7.3"
  }
 },
 "nbformat": 4,
 "nbformat_minor": 2
}
