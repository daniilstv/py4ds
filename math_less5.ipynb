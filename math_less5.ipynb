{
 "cells": [
  {
   "cell_type": "code",
   "execution_count": 172,
   "metadata": {},
   "outputs": [],
   "source": [
    "import numpy as np\n",
    "import math\n",
    "import itertools\n",
    "from matplotlib import pyplot as plt\n",
    "%matplotlib inline"
   ]
  },
  {
   "cell_type": "markdown",
   "metadata": {},
   "source": [
    "1. Напишите код, моделирующий выпадение поля в рулетке (с учетом поля зеро)."
   ]
  },
  {
   "cell_type": "code",
   "execution_count": 39,
   "metadata": {},
   "outputs": [
    {
     "name": "stdout",
     "output_type": "stream",
     "text": [
      "Шарик остановился на 26\n"
     ]
    }
   ],
   "source": [
    "x = np.random.randint(0, high=37)\n",
    "print(\"Шарик остановился на\", x)"
   ]
  },
  {
   "cell_type": "code",
   "execution_count": null,
   "metadata": {},
   "outputs": [],
   "source": []
  },
  {
   "cell_type": "markdown",
   "metadata": {},
   "source": [
    "2.1 Напишите код, проверяющий любую из теорем сложения или умножения вероятности на примере рулетки или подбрасывания монетки.\n",
    "\n",
    "2.2 Сгенерируйте десять выборок случайных чисел х0, …, х9 и постройте гистограмму распределения случайной суммы х0+х1+ …+ х9."
   ]
  },
  {
   "cell_type": "code",
   "execution_count": 123,
   "metadata": {
    "scrolled": true
   },
   "outputs": [
    {
     "name": "stdout",
     "output_type": "stream",
     "text": [
      "Теоритическая вероятность выпадения четного за два вращения рулетки 0.972972972972973\n",
      "В 100000 экспериментах получили 73568 четных значений\n",
      "Проверка экспериментом показала вероятность 0.73568\n"
     ]
    }
   ],
   "source": [
    "# 2.1\n",
    "# Вероятность выпадения четных близка к 1/2 и составляет 18/37\n",
    "\n",
    "\n",
    "# 2.1.1 Сложение вероятности. Четное за две попытки выпадет с вероятностью 18/37 + 18/37 \n",
    "p = 18/37 + 18/37\n",
    "n = 100000\n",
    "m = 0\n",
    "\n",
    "for i in range(n):\n",
    "    x1 = np.random.randint(0, high=37)\n",
    "    x2 = np.random.randint(0, high=37)\n",
    "    if (x1 != 0 and x1 % 2 == 0) or (x2 != 0 and x2 % 2 == 0):\n",
    "        m += 1\n",
    "    \n",
    "print(\"Теоритическая вероятность выпадения четного за два вращения рулетки\", p)\n",
    "print(f\"В {n} экспериментах получили {m} четных значений\"   )\n",
    "print(\"Проверка экспериментом показала вероятность\", m/n)\n",
    "\n",
    "# На практике всегда выпадает около 0,73 , а не 0,97. Вероятно это из-за псевдослучайности. Или ошибка в коде."
   ]
  },
  {
   "cell_type": "code",
   "execution_count": 115,
   "metadata": {
    "scrolled": true
   },
   "outputs": [
    {
     "name": "stdout",
     "output_type": "stream",
     "text": [
      "Теоритическая вероятность выпадения четного за два вращения рулетки 0.23666910153396642\n",
      "В 100000 экспериментах получили 23384 четных значений\n",
      "На практике вероятность составила 0.23384\n"
     ]
    }
   ],
   "source": [
    "# 2.1.2  Умножение вероятности. Два четных подрят выпадет с вероятностью 18/37 * 18/37 \n",
    "p = 18/37 * 18/37\n",
    "n = 100000\n",
    "m = 0\n",
    "\n",
    "for i in range(n):\n",
    "    x1 = np.random.randint(0, high=37)\n",
    "    x2 = np.random.randint(0, high=37)\n",
    "    if x1 != 0 and x2 != 0 and x1 % 2 == 0 and x2 % 2 == 0:\n",
    "        m += 1\n",
    "    \n",
    "print(\"Теоритическая вероятность выпадения четного за два вращения рулетки\", p)\n",
    "print(f\"В {n} экспериментах получили {m} четных значений\"   )\n",
    "print(\"На практике вероятность составила\", m/n)\n"
   ]
  },
  {
   "cell_type": "code",
   "execution_count": 120,
   "metadata": {
    "scrolled": true
   },
   "outputs": [
    {
     "name": "stdout",
     "output_type": "stream",
     "text": [
      "[158, 136, 223, 129, 193, 259, 163, 168, 158, 207]\n"
     ]
    },
    {
     "data": {
      "image/png": "[encoded data removed]",
      "text/plain": [
       "<Figure size 432x288 with 1 Axes>"
      ]
     },
     "metadata": {
      "needs_background": "light"
     },
     "output_type": "display_data"
    }
   ],
   "source": [
    "# 2.2\n",
    "y = []\n",
    "for i in  range(10):\n",
    "    x = np.random.randint(0, high=37, size = 10)\n",
    "    y_tmp = np.sum(x)\n",
    "    y.append(y_tmp)\n",
    "    \n",
    "print(y)\n",
    "plt.hist(y)\n",
    "plt.xlabel(\"Сумма выборки\")\n",
    "plt.ylabel('Количество значений')\n",
    "plt.show()"
   ]
  },
  {
   "cell_type": "markdown",
   "metadata": {},
   "source": [
    "3.1 Дополните код Монте-Карло последовательности независимых испытаний расчетом соответствующих вероятностей (через биномиальное распределение) \n",
    "и сравните результаты.\n",
    "\n",
    "3.2 Повторите расчеты биномиальных коэффициентов и вероятностей k успехов в последовательности из n независимых испытаний, взяв другие значения n и k.\n"
   ]
  },
  {
   "cell_type": "code",
   "execution_count": 169,
   "metadata": {
    "scrolled": true
   },
   "outputs": [
    {
     "name": "stdout",
     "output_type": "stream",
     "text": [
      "k =  382 ; Испытаний:  1000 ; Доля: 0.382\n",
      "Расчетная вероятность выпадения  2 успехов из 4 испытаний -  0.375\n"
     ]
    }
   ],
   "source": [
    "# 3.1\n",
    "k, n = 0, 1000\n",
    "\n",
    "x1 = np.random.randint(0, high=2, size=n)\n",
    "x2 = np.random.randint(0, high=2, size=n)\n",
    "x3 = np.random.randint(0, high=2, size=n)\n",
    "x4 = np.random.randint(0, high=2, size=n)\n",
    "\n",
    "# Проверяем, чтобы за четыре испытания четное выпало два раза.\n",
    "\n",
    "x = x1 + x2 + x3 + x4\n",
    "\n",
    "for i in range(0,n):\n",
    "    if x[i] == 2:\n",
    "        k += 1\n",
    "        \n",
    "print (\"k = \", k ,\"; Испытаний: \", n, \"; Доля:\", k/n)\n",
    "\n",
    "k1 = 2\n",
    "n1 = 4\n",
    "p = 0.5\n",
    "q = 0.5\n",
    "cnk = math.factorial(n1)/(math.factorial(k1)*math.factorial(n1-k1))\n",
    "pnk = cnk * (p**k1)* (q**(n1-k1))\n",
    "pnk1 = cnk / (2**n1)\n",
    "print(\"Расчетная вероятность выпадения \", k1, \"успехов из\", n1 ,\"испытаний - \", pnk )"
   ]
  },
  {
   "cell_type": "code",
   "execution_count": 170,
   "metadata": {},
   "outputs": [
    {
     "name": "stdout",
     "output_type": "stream",
     "text": [
      "k =  272 ; Испытаний:  1000 ; Доля: 0.272\n",
      "Расчетная вероятность выпадения  3 успехов из 6 испытаний -  0.3125\n"
     ]
    }
   ],
   "source": [
    "# 3.2\n",
    "k, n = 0, 1000\n",
    "\n",
    "x1 = np.random.randint(0, high=2, size=n)\n",
    "x2 = np.random.randint(0, high=2, size=n)\n",
    "x3 = np.random.randint(0, high=2, size=n)\n",
    "x4 = np.random.randint(0, high=2, size=n)\n",
    "x5 = np.random.randint(0, high=2, size=n)\n",
    "x6 = np.random.randint(0, high=2, size=n)\n",
    "\n",
    "# Проверяем, чтобы за шесть испытаний четное выпало три раза.\n",
    "\n",
    "x = x1 + x2 + x3 + x4 + x5 + x6\n",
    "\n",
    "for i in range(0,n):\n",
    "    if x[i] == 2:\n",
    "        k += 1\n",
    "        \n",
    "print (\"k = \", k ,\"; Испытаний: \", n, \"; Доля:\", k/n)\n",
    "\n",
    "k1 = 3\n",
    "n1 = 6\n",
    "p = 0.5\n",
    "q = 0.5\n",
    "cnk = math.factorial(n1)/(math.factorial(k1)*math.factorial(n1-k1))\n",
    "pnk = cnk * (p**k1)* (q**(n1-k1))\n",
    "pnk1 = cnk / (2**n1)\n",
    "print(\"Расчетная вероятность выпадения \", k1, \"успехов из\", n1 ,\"испытаний - \", pnk )\n",
    "\n",
    "# фактическое возле 0.22 , а расчетное - 0.3125 "
   ]
  },
  {
   "cell_type": "markdown",
   "metadata": {},
   "source": [
    "4. Из урока по комбинаторике повторите расчеты, сгенерировав возможные варианты перестановок для других значений n и k\n"
   ]
  },
  {
   "cell_type": "code",
   "execution_count": 188,
   "metadata": {},
   "outputs": [
    {
     "name": "stdout",
     "output_type": "stream",
     "text": [
      "c3\n",
      "cv\n",
      "c4\n",
      "cd\n",
      "3c\n",
      "3v\n",
      "34\n",
      "3d\n",
      "vc\n",
      "v3\n",
      "v4\n",
      "vd\n",
      "4c\n",
      "43\n",
      "4v\n",
      "4d\n",
      "dc\n",
      "d3\n",
      "dv\n",
      "d4\n",
      "Количество вариантов: n =  20\n"
     ]
    }
   ],
   "source": [
    "# 4.1 Размещение 2 из 5\n",
    "n = 0\n",
    "for p in itertools.permutations(\"c3v4d\",2):\n",
    "    print(\"\".join(str(x) for x in p))\n",
    "    n +=1\n",
    "print(\"Количество вариантов: n = \",n)"
   ]
  },
  {
   "cell_type": "code",
   "execution_count": 187,
   "metadata": {},
   "outputs": [
    {
     "name": "stdout",
     "output_type": "stream",
     "text": [
      "c3\n",
      "cv\n",
      "c4\n",
      "cd\n",
      "3v\n",
      "34\n",
      "3d\n",
      "v4\n",
      "vd\n",
      "4d\n",
      "Количество вариантов: n =  10\n"
     ]
    }
   ],
   "source": [
    "# 4.2 Сочетание 2 из 5\n",
    "n = 0\n",
    "for p in itertools.combinations(\"c3v4d\",2):\n",
    "    print(\"\".join(str(x) for x in p))\n",
    "    n +=1\n",
    "print(\"Количество вариантов: n = \",n)"
   ]
  },
  {
   "cell_type": "code",
   "execution_count": 196,
   "metadata": {},
   "outputs": [
    {
     "name": "stdout",
     "output_type": "stream",
     "text": [
      "123\n",
      "132\n",
      "213\n",
      "231\n",
      "312\n",
      "321\n",
      "Количество вариантов: n =  6\n"
     ]
    }
   ],
   "source": [
    "# 4.3 Перестановка 3 из 3\n",
    "n = 0\n",
    "for p in itertools.permutations(\"123\",3):\n",
    "    print(\"\".join(str(x) for x in p))\n",
    "    n +=1\n",
    "print(\"Количество вариантов: n = \",n)"
   ]
  },
  {
   "cell_type": "markdown",
   "metadata": {},
   "source": [
    "5. Дополните код расчетом коэффициента корреляции x и y по формуле"
   ]
  },
  {
   "cell_type": "code",
   "execution_count": null,
   "metadata": {},
   "outputs": [],
   "source": []
  }
 ],
 "metadata": {
  "kernelspec": {
   "display_name": "Python 3",
   "language": "python",
   "name": "python3"
  },
  "language_info": {
   "codemirror_mode": {
    "name": "ipython",
    "version": 3
   },
   "file_extension": ".py",
   "mimetype": "text/x-python",
   "name": "python",
   "nbconvert_exporter": "python",
   "pygments_lexer": "ipython3",
   "version": "3.7.3"
  }
 },
 "nbformat": 4,
 "nbformat_minor": 2
}
